{
 "cells": [
  {
   "cell_type": "markdown",
   "metadata": {},
   "source": [
    "# NTM\n",
    "author : nakamuraleon  \n",
    "email : nakamuraleon0552@gmail.com  \n",
    "\n",
    "### 1. Table of contents\n",
    "\n",
    "### 2. Dataset\n",
    "\n",
    "### 3. Reference\n",
    "https://qiita.com/m3yrin/items/3a8157f65eb9862ac21e"
   ]
  },
  {
   "cell_type": "code",
   "execution_count": 2,
   "metadata": {},
   "outputs": [],
   "source": [
    "import numpy as np\n",
    "import os\n",
    "import pickle\n",
    "import grid_graph\n",
    "import gensim\n",
    "import glob\n",
    "import trainer"
   ]
  },
  {
   "cell_type": "raw",
   "metadata": {},
   "source": []
  },
  {
   "cell_type": "raw",
   "metadata": {},
   "source": []
  },
  {
   "cell_type": "markdown",
   "metadata": {},
   "source": [
    "## 2, 3. Loading File (Load dictionary)"
   ]
  },
  {
   "cell_type": "code",
   "execution_count": 3,
   "metadata": {},
   "outputs": [],
   "source": [
    "def loadfile(period):\n",
    "    f = open('./Dataset/'+str(period)+'_docsfile.txt', 'rb')\n",
    "    dicts = pickle.load(f)\n",
    "    return dicts\n",
    "\n",
    "def splitdata(dicts):\n",
    "    test_valid_size = int(len(dicts) * 0.1)\n",
    "    test_data  = dicts[:test_valid_size]\n",
    "    valid_data = dicts[test_valid_size : test_valid_size*2]\n",
    "    train_data = dicts[test_valid_size*2 :]\n",
    "    return train_data, valid_data, test_data"
   ]
  },
  {
   "cell_type": "code",
   "execution_count": 4,
   "metadata": {},
   "outputs": [],
   "source": [
    "period = 2000\n",
    "dicts = loadfile(period)\n",
    "dicts = dicts[:500]\n",
    "bow_vocab = gensim.corpora.Dictionary(dicts)\n",
    "bow_vocab_size = len(bow_vocab)\n",
    "train_data, valid_data, test_data = splitdata(dicts)"
   ]
  },
  {
   "cell_type": "code",
   "execution_count": 5,
   "metadata": {},
   "outputs": [
    {
     "data": {
      "text/plain": [
       "400"
      ]
     },
     "execution_count": 5,
     "metadata": {},
     "output_type": "execute_result"
    }
   ],
   "source": [
    "len(train_data)"
   ]
  },
  {
   "cell_type": "code",
   "execution_count": null,
   "metadata": {},
   "outputs": [],
   "source": []
  },
  {
   "cell_type": "raw",
   "metadata": {},
   "source": []
  },
  {
   "cell_type": "markdown",
   "metadata": {},
   "source": [
    "## 5. Training"
   ]
  },
  {
   "cell_type": "code",
   "execution_count": 6,
   "metadata": {},
   "outputs": [
    {
     "name": "stderr",
     "output_type": "stream",
     "text": [
      "/Users/nakamurareon/Library/CloudStorage/OneDrive-Personal/PredNTM/trainer.py:199: UserWarning: nn.init.kaiming_uniform is now deprecated in favor of nn.init.kaiming_uniform_.\n",
      "  torch.nn.init.kaiming_uniform(m.weight)\n"
     ]
    }
   ],
   "source": [
    "hidden_dim = 1000 \n",
    "topic_num = 15\n",
    "batch_size = 32\n",
    "ntm_model = trainer.NTMEstimator(input_dim = bow_vocab_size, hidden_dim = hidden_dim, topic_num = topic_num, l1_strength=0.0000001)"
   ]
  },
  {
   "cell_type": "code",
   "execution_count": 7,
   "metadata": {},
   "outputs": [
    {
     "name": "stderr",
     "output_type": "stream",
     "text": [
      "/Users/nakamurareon/Library/CloudStorage/OneDrive-Personal/PredNTM/trainer.py:211: VisibleDeprecationWarning: Creating an ndarray from ragged nested sequences (which is a list-or-tuple of lists-or-tuples-or ndarrays with different lengths or shapes) is deprecated. If you meant to do this, you must specify 'dtype=object' when creating the ndarray.\n",
      "  self.data = np.array(data)\n",
      "/Users/nakamurareon/Library/CloudStorage/OneDrive-Personal/PredNTM/trainer.py:212: VisibleDeprecationWarning: Creating an ndarray from ragged nested sequences (which is a list-or-tuple of lists-or-tuples-or ndarrays with different lengths or shapes) is deprecated. If you meant to do this, you must specify 'dtype=object' when creating the ndarray.\n",
      "  self.bow_data = np.array([bow_vocab.doc2bow(s) for s in data])\n"
     ]
    },
    {
     "name": "stdout",
     "output_type": "stream",
     "text": [
      "======== Epoch 1  ========\n"
     ]
    },
    {
     "name": "stderr",
     "output_type": "stream",
     "text": [
      "/Users/nakamurareon/opt/anaconda3/lib/python3.9/site-packages/torch/nn/_reduction.py:42: UserWarning: size_average and reduce args will be deprecated, please use reduction='sum' instead.\n",
      "  warnings.warn(warning.format(ret))\n"
     ]
    },
    {
     "name": "stdout",
     "output_type": "stream",
     "text": [
      "Overall sparsity = 0.002, l1 strength = 0.00000\n",
      "Target sparsity = 0.850\n",
      "Train epoch: 1 Average loss: 2188.0782\n",
      "Test epoch : 1 Average loss: 2495.7283\n"
     ]
    },
    {
     "ename": "KeyboardInterrupt",
     "evalue": "",
     "output_type": "error",
     "traceback": [
      "\u001b[0;31m---------------------------------------------------------------------------\u001b[0m",
      "\u001b[0;31mKeyboardInterrupt\u001b[0m                         Traceback (most recent call last)",
      "\u001b[0;32m/var/folders/44/08dvs7wn6t5_jn5sxxsly14c0000gn/T/ipykernel_7796/2372893990.py\u001b[0m in \u001b[0;36m<module>\u001b[0;34m\u001b[0m\n\u001b[0;32m----> 1\u001b[0;31m \u001b[0mntm_model\u001b[0m\u001b[0;34m,\u001b[0m \u001b[0mz_train\u001b[0m\u001b[0;34m,\u001b[0m \u001b[0mz_valid\u001b[0m \u001b[0;34m=\u001b[0m \u001b[0mntm_model\u001b[0m\u001b[0;34m.\u001b[0m\u001b[0mfit\u001b[0m\u001b[0;34m(\u001b[0m\u001b[0mtrain_data\u001b[0m\u001b[0;34m,\u001b[0m \u001b[0mvalid_data\u001b[0m\u001b[0;34m,\u001b[0m \u001b[0mbow_vocab\u001b[0m\u001b[0;34m,\u001b[0m \u001b[0mbatch_size\u001b[0m\u001b[0;34m,\u001b[0m \u001b[0;36m10\u001b[0m\u001b[0;34m)\u001b[0m\u001b[0;34m\u001b[0m\u001b[0;34m\u001b[0m\u001b[0m\n\u001b[0m",
      "\u001b[0;32m~/Library/CloudStorage/OneDrive-Personal/PredNTM/trainer.py\u001b[0m in \u001b[0;36mfit\u001b[0;34m(self, train_data, valid_data, bow_vocab, batch_size, n_epoch)\u001b[0m\n\u001b[1;32m    301\u001b[0m             \u001b[0mz\u001b[0m\u001b[0;34m,\u001b[0m \u001b[0mval_loss\u001b[0m \u001b[0;34m=\u001b[0m \u001b[0mcompute_test_loss\u001b[0m\u001b[0;34m(\u001b[0m\u001b[0mself\u001b[0m\u001b[0;34m.\u001b[0m\u001b[0mntm_model\u001b[0m\u001b[0;34m,\u001b[0m \u001b[0mdataloader_valid\u001b[0m\u001b[0;34m,\u001b[0m \u001b[0mepoch\u001b[0m\u001b[0;34m)\u001b[0m\u001b[0;34m\u001b[0m\u001b[0;34m\u001b[0m\u001b[0m\n\u001b[1;32m    302\u001b[0m \u001b[0;34m\u001b[0m\u001b[0m\n\u001b[0;32m--> 303\u001b[0;31m             \u001b[0mpp\u001b[0m \u001b[0;34m=\u001b[0m \u001b[0mcompute_perplexity\u001b[0m\u001b[0;34m(\u001b[0m\u001b[0mself\u001b[0m\u001b[0;34m.\u001b[0m\u001b[0mntm_model\u001b[0m\u001b[0;34m,\u001b[0m \u001b[0mdataloader\u001b[0m\u001b[0;34m)\u001b[0m\u001b[0;34m\u001b[0m\u001b[0;34m\u001b[0m\u001b[0m\n\u001b[0m\u001b[1;32m    304\u001b[0m             \u001b[0mpp_val\u001b[0m \u001b[0;34m=\u001b[0m \u001b[0mcompute_perplexity\u001b[0m\u001b[0;34m(\u001b[0m\u001b[0mself\u001b[0m\u001b[0;34m.\u001b[0m\u001b[0mntm_model\u001b[0m\u001b[0;34m,\u001b[0m \u001b[0mdataloader_valid\u001b[0m\u001b[0;34m)\u001b[0m\u001b[0;34m\u001b[0m\u001b[0;34m\u001b[0m\u001b[0m\n\u001b[1;32m    305\u001b[0m             \u001b[0mprint\u001b[0m\u001b[0;34m(\u001b[0m\u001b[0;34m\"PP(train) = %.3f, PP(valid) = %.3f\"\u001b[0m \u001b[0;34m%\u001b[0m \u001b[0;34m(\u001b[0m\u001b[0mpp\u001b[0m\u001b[0;34m,\u001b[0m \u001b[0mpp_val\u001b[0m\u001b[0;34m)\u001b[0m\u001b[0;34m)\u001b[0m\u001b[0;34m\u001b[0m\u001b[0;34m\u001b[0m\u001b[0m\n",
      "\u001b[0;32m~/Library/CloudStorage/OneDrive-Personal/PredNTM/trainer.py\u001b[0m in \u001b[0;36mcompute_perplexity\u001b[0;34m(model, dataloader)\u001b[0m\n\u001b[1;32m     99\u001b[0m             \u001b[0mdata_bow_norm\u001b[0m \u001b[0;34m=\u001b[0m \u001b[0mF\u001b[0m\u001b[0;34m.\u001b[0m\u001b[0mnormalize\u001b[0m\u001b[0;34m(\u001b[0m\u001b[0mdata_bow\u001b[0m\u001b[0;34m)\u001b[0m\u001b[0;34m\u001b[0m\u001b[0;34m\u001b[0m\u001b[0m\n\u001b[1;32m    100\u001b[0m \u001b[0;34m\u001b[0m\u001b[0m\n\u001b[0;32m--> 101\u001b[0;31m             \u001b[0mz\u001b[0m\u001b[0;34m,\u001b[0m \u001b[0mg\u001b[0m\u001b[0;34m,\u001b[0m \u001b[0mrecon_batch\u001b[0m\u001b[0;34m,\u001b[0m \u001b[0mmu\u001b[0m\u001b[0;34m,\u001b[0m \u001b[0mlogvar\u001b[0m \u001b[0;34m=\u001b[0m \u001b[0mmodel\u001b[0m\u001b[0;34m(\u001b[0m\u001b[0mdata_bow_norm\u001b[0m\u001b[0;34m)\u001b[0m\u001b[0;34m\u001b[0m\u001b[0;34m\u001b[0m\u001b[0m\n\u001b[0m\u001b[1;32m    102\u001b[0m \u001b[0;34m\u001b[0m\u001b[0m\n\u001b[1;32m    103\u001b[0m             \u001b[0;31m#loss += loss_function(recon_batch, data_bow, mu, logvar).detach()\u001b[0m\u001b[0;34m\u001b[0m\u001b[0;34m\u001b[0m\u001b[0m\n",
      "\u001b[0;32m~/opt/anaconda3/lib/python3.9/site-packages/torch/nn/modules/module.py\u001b[0m in \u001b[0;36m_call_impl\u001b[0;34m(self, *input, **kwargs)\u001b[0m\n\u001b[1;32m   1128\u001b[0m         if not (self._backward_hooks or self._forward_hooks or self._forward_pre_hooks or _global_backward_hooks\n\u001b[1;32m   1129\u001b[0m                 or _global_forward_hooks or _global_forward_pre_hooks):\n\u001b[0;32m-> 1130\u001b[0;31m             \u001b[0;32mreturn\u001b[0m \u001b[0mforward_call\u001b[0m\u001b[0;34m(\u001b[0m\u001b[0;34m*\u001b[0m\u001b[0minput\u001b[0m\u001b[0;34m,\u001b[0m \u001b[0;34m**\u001b[0m\u001b[0mkwargs\u001b[0m\u001b[0;34m)\u001b[0m\u001b[0;34m\u001b[0m\u001b[0;34m\u001b[0m\u001b[0m\n\u001b[0m\u001b[1;32m   1131\u001b[0m         \u001b[0;31m# Do not call functions when jit is used\u001b[0m\u001b[0;34m\u001b[0m\u001b[0;34m\u001b[0m\u001b[0m\n\u001b[1;32m   1132\u001b[0m         \u001b[0mfull_backward_hooks\u001b[0m\u001b[0;34m,\u001b[0m \u001b[0mnon_full_backward_hooks\u001b[0m \u001b[0;34m=\u001b[0m \u001b[0;34m[\u001b[0m\u001b[0;34m]\u001b[0m\u001b[0;34m,\u001b[0m \u001b[0;34m[\u001b[0m\u001b[0;34m]\u001b[0m\u001b[0;34m\u001b[0m\u001b[0;34m\u001b[0m\u001b[0m\n",
      "\u001b[0;32m~/Library/CloudStorage/OneDrive-Personal/PredNTM/ntm.py\u001b[0m in \u001b[0;36mforward\u001b[0;34m(self, x)\u001b[0m\n\u001b[1;32m     50\u001b[0m \u001b[0;34m\u001b[0m\u001b[0m\n\u001b[1;32m     51\u001b[0m     \u001b[0;32mdef\u001b[0m \u001b[0mforward\u001b[0m\u001b[0;34m(\u001b[0m\u001b[0mself\u001b[0m\u001b[0;34m,\u001b[0m \u001b[0mx\u001b[0m\u001b[0;34m)\u001b[0m\u001b[0;34m:\u001b[0m\u001b[0;34m\u001b[0m\u001b[0;34m\u001b[0m\u001b[0m\n\u001b[0;32m---> 52\u001b[0;31m         \u001b[0mmu\u001b[0m\u001b[0;34m,\u001b[0m \u001b[0mlogvar\u001b[0m \u001b[0;34m=\u001b[0m \u001b[0mself\u001b[0m\u001b[0;34m.\u001b[0m\u001b[0mencode\u001b[0m\u001b[0;34m(\u001b[0m\u001b[0mx\u001b[0m\u001b[0;34m.\u001b[0m\u001b[0mview\u001b[0m\u001b[0;34m(\u001b[0m\u001b[0;34m-\u001b[0m\u001b[0;36m1\u001b[0m\u001b[0;34m,\u001b[0m \u001b[0mself\u001b[0m\u001b[0;34m.\u001b[0m\u001b[0minput_dim\u001b[0m\u001b[0;34m)\u001b[0m\u001b[0;34m)\u001b[0m\u001b[0;34m\u001b[0m\u001b[0;34m\u001b[0m\u001b[0m\n\u001b[0m\u001b[1;32m     53\u001b[0m         \u001b[0mz\u001b[0m \u001b[0;34m=\u001b[0m \u001b[0mself\u001b[0m\u001b[0;34m.\u001b[0m\u001b[0mreparameterize\u001b[0m\u001b[0;34m(\u001b[0m\u001b[0mmu\u001b[0m\u001b[0;34m,\u001b[0m \u001b[0mlogvar\u001b[0m\u001b[0;34m)\u001b[0m\u001b[0;34m\u001b[0m\u001b[0;34m\u001b[0m\u001b[0m\n\u001b[1;32m     54\u001b[0m         \u001b[0mg\u001b[0m \u001b[0;34m=\u001b[0m \u001b[0mself\u001b[0m\u001b[0;34m.\u001b[0m\u001b[0mgenerate\u001b[0m\u001b[0;34m(\u001b[0m\u001b[0mz\u001b[0m\u001b[0;34m)\u001b[0m\u001b[0;34m\u001b[0m\u001b[0;34m\u001b[0m\u001b[0m\n",
      "\u001b[0;32m~/Library/CloudStorage/OneDrive-Personal/PredNTM/ntm.py\u001b[0m in \u001b[0;36mencode\u001b[0;34m(self, x)\u001b[0m\n\u001b[1;32m     26\u001b[0m         \u001b[0me1\u001b[0m \u001b[0;34m=\u001b[0m \u001b[0mF\u001b[0m\u001b[0;34m.\u001b[0m\u001b[0mrelu\u001b[0m\u001b[0;34m(\u001b[0m\u001b[0mself\u001b[0m\u001b[0;34m.\u001b[0m\u001b[0mfc11\u001b[0m\u001b[0;34m(\u001b[0m\u001b[0mx\u001b[0m\u001b[0;34m)\u001b[0m\u001b[0;34m)\u001b[0m\u001b[0;34m\u001b[0m\u001b[0;34m\u001b[0m\u001b[0m\n\u001b[1;32m     27\u001b[0m         \u001b[0me1\u001b[0m \u001b[0;34m=\u001b[0m \u001b[0mF\u001b[0m\u001b[0;34m.\u001b[0m\u001b[0mrelu\u001b[0m\u001b[0;34m(\u001b[0m\u001b[0mself\u001b[0m\u001b[0;34m.\u001b[0m\u001b[0mfc12\u001b[0m\u001b[0;34m(\u001b[0m\u001b[0me1\u001b[0m\u001b[0;34m)\u001b[0m\u001b[0;34m)\u001b[0m\u001b[0;34m\u001b[0m\u001b[0;34m\u001b[0m\u001b[0m\n\u001b[0;32m---> 28\u001b[0;31m         \u001b[0me1\u001b[0m \u001b[0;34m=\u001b[0m \u001b[0me1\u001b[0m\u001b[0;34m.\u001b[0m\u001b[0madd\u001b[0m\u001b[0;34m(\u001b[0m\u001b[0mself\u001b[0m\u001b[0;34m.\u001b[0m\u001b[0mfcs\u001b[0m\u001b[0;34m(\u001b[0m\u001b[0mx\u001b[0m\u001b[0;34m)\u001b[0m\u001b[0;34m)\u001b[0m\u001b[0;34m\u001b[0m\u001b[0;34m\u001b[0m\u001b[0m\n\u001b[0m\u001b[1;32m     29\u001b[0m         \u001b[0;32mreturn\u001b[0m \u001b[0mself\u001b[0m\u001b[0;34m.\u001b[0m\u001b[0mfc21\u001b[0m\u001b[0;34m(\u001b[0m\u001b[0me1\u001b[0m\u001b[0;34m)\u001b[0m\u001b[0;34m,\u001b[0m \u001b[0mself\u001b[0m\u001b[0;34m.\u001b[0m\u001b[0mfc22\u001b[0m\u001b[0;34m(\u001b[0m\u001b[0me1\u001b[0m\u001b[0;34m)\u001b[0m\u001b[0;34m\u001b[0m\u001b[0;34m\u001b[0m\u001b[0m\n\u001b[1;32m     30\u001b[0m \u001b[0;34m\u001b[0m\u001b[0m\n",
      "\u001b[0;32m~/opt/anaconda3/lib/python3.9/site-packages/torch/nn/modules/module.py\u001b[0m in \u001b[0;36m_call_impl\u001b[0;34m(self, *input, **kwargs)\u001b[0m\n\u001b[1;32m   1128\u001b[0m         if not (self._backward_hooks or self._forward_hooks or self._forward_pre_hooks or _global_backward_hooks\n\u001b[1;32m   1129\u001b[0m                 or _global_forward_hooks or _global_forward_pre_hooks):\n\u001b[0;32m-> 1130\u001b[0;31m             \u001b[0;32mreturn\u001b[0m \u001b[0mforward_call\u001b[0m\u001b[0;34m(\u001b[0m\u001b[0;34m*\u001b[0m\u001b[0minput\u001b[0m\u001b[0;34m,\u001b[0m \u001b[0;34m**\u001b[0m\u001b[0mkwargs\u001b[0m\u001b[0;34m)\u001b[0m\u001b[0;34m\u001b[0m\u001b[0;34m\u001b[0m\u001b[0m\n\u001b[0m\u001b[1;32m   1131\u001b[0m         \u001b[0;31m# Do not call functions when jit is used\u001b[0m\u001b[0;34m\u001b[0m\u001b[0;34m\u001b[0m\u001b[0m\n\u001b[1;32m   1132\u001b[0m         \u001b[0mfull_backward_hooks\u001b[0m\u001b[0;34m,\u001b[0m \u001b[0mnon_full_backward_hooks\u001b[0m \u001b[0;34m=\u001b[0m \u001b[0;34m[\u001b[0m\u001b[0;34m]\u001b[0m\u001b[0;34m,\u001b[0m \u001b[0;34m[\u001b[0m\u001b[0;34m]\u001b[0m\u001b[0;34m\u001b[0m\u001b[0;34m\u001b[0m\u001b[0m\n",
      "\u001b[0;32m~/opt/anaconda3/lib/python3.9/site-packages/torch/nn/modules/linear.py\u001b[0m in \u001b[0;36mforward\u001b[0;34m(self, input)\u001b[0m\n\u001b[1;32m    112\u001b[0m \u001b[0;34m\u001b[0m\u001b[0m\n\u001b[1;32m    113\u001b[0m     \u001b[0;32mdef\u001b[0m \u001b[0mforward\u001b[0m\u001b[0;34m(\u001b[0m\u001b[0mself\u001b[0m\u001b[0;34m,\u001b[0m \u001b[0minput\u001b[0m\u001b[0;34m:\u001b[0m \u001b[0mTensor\u001b[0m\u001b[0;34m)\u001b[0m \u001b[0;34m->\u001b[0m \u001b[0mTensor\u001b[0m\u001b[0;34m:\u001b[0m\u001b[0;34m\u001b[0m\u001b[0;34m\u001b[0m\u001b[0m\n\u001b[0;32m--> 114\u001b[0;31m         \u001b[0;32mreturn\u001b[0m \u001b[0mF\u001b[0m\u001b[0;34m.\u001b[0m\u001b[0mlinear\u001b[0m\u001b[0;34m(\u001b[0m\u001b[0minput\u001b[0m\u001b[0;34m,\u001b[0m \u001b[0mself\u001b[0m\u001b[0;34m.\u001b[0m\u001b[0mweight\u001b[0m\u001b[0;34m,\u001b[0m \u001b[0mself\u001b[0m\u001b[0;34m.\u001b[0m\u001b[0mbias\u001b[0m\u001b[0;34m)\u001b[0m\u001b[0;34m\u001b[0m\u001b[0;34m\u001b[0m\u001b[0m\n\u001b[0m\u001b[1;32m    115\u001b[0m \u001b[0;34m\u001b[0m\u001b[0m\n\u001b[1;32m    116\u001b[0m     \u001b[0;32mdef\u001b[0m \u001b[0mextra_repr\u001b[0m\u001b[0;34m(\u001b[0m\u001b[0mself\u001b[0m\u001b[0;34m)\u001b[0m \u001b[0;34m->\u001b[0m \u001b[0mstr\u001b[0m\u001b[0;34m:\u001b[0m\u001b[0;34m\u001b[0m\u001b[0;34m\u001b[0m\u001b[0m\n",
      "\u001b[0;31mKeyboardInterrupt\u001b[0m: "
     ]
    }
   ],
   "source": [
    "ntm_model, z_train, z_valid = ntm_model.fit(train_data, valid_data, bow_vocab, batch_size, 10)"
   ]
  },
  {
   "cell_type": "code",
   "execution_count": null,
   "metadata": {},
   "outputs": [],
   "source": []
  },
  {
   "cell_type": "code",
   "execution_count": null,
   "metadata": {},
   "outputs": [],
   "source": [
    "bow_vocab = gensim.corpora.Dictionary(dicts)\n",
    "bow_vocab_size = len(bow_vocab)\n",
    "hidden_dim = 1000\n",
    "topic_num = 15\n",
    "batch_size = 32\n",
    "ntm_model = trainer.NTMEstimator(input_dim = bow_vocab_size, hidden_dim = hidden_dim, topic_num = topic_num, l1_strength=0.0000001)"
   ]
  },
  {
   "cell_type": "markdown",
   "metadata": {},
   "source": [
    "# Run"
   ]
  },
  {
   "cell_type": "code",
   "execution_count": 4,
   "metadata": {},
   "outputs": [
    {
     "name": "stdout",
     "output_type": "stream",
     "text": [
      "======== Epoch 1  ========\n",
      "0\n",
      "1\n",
      "2\n",
      "Overall sparsity = 0.002, l1 strength = 0.00000\n",
      "Target sparsity = 0.850\n",
      "Train epoch: 1 Average loss: 1968.4120\n",
      "======== Epoch 1  ========\n",
      "0\n",
      "1\n",
      "2\n",
      "Overall sparsity = 0.002, l1 strength = 0.00000\n",
      "Target sparsity = 0.850\n",
      "Train epoch: 1 Average loss: 1235.7006\n",
      "======== Epoch 1  ========\n",
      "0\n",
      "1\n",
      "2\n",
      "Overall sparsity = 0.002, l1 strength = 0.00000\n",
      "Target sparsity = 0.850\n",
      "Train epoch: 1 Average loss: 1258.4480\n",
      "======== Epoch 1  ========\n",
      "0\n",
      "1\n",
      "2\n",
      "Overall sparsity = 0.002, l1 strength = 0.00000\n",
      "Target sparsity = 0.850\n",
      "Train epoch: 1 Average loss: 1015.9423\n",
      "======== Epoch 1  ========\n",
      "0\n",
      "1\n",
      "2\n",
      "Overall sparsity = 0.002, l1 strength = 0.00000\n",
      "Target sparsity = 0.850\n",
      "Train epoch: 1 Average loss: 1164.5443\n",
      "======== Epoch 1  ========\n",
      "0\n",
      "1\n",
      "2\n",
      "Overall sparsity = 0.002, l1 strength = 0.00000\n",
      "Target sparsity = 0.850\n",
      "Train epoch: 1 Average loss: 1207.7446\n",
      "======== Epoch 1  ========\n",
      "0\n",
      "1\n",
      "2\n",
      "Overall sparsity = 0.002, l1 strength = 0.00000\n",
      "Target sparsity = 0.850\n",
      "Train epoch: 1 Average loss: 1234.3376\n",
      "======== Epoch 1  ========\n",
      "0\n",
      "1\n",
      "2\n",
      "Overall sparsity = 0.002, l1 strength = 0.00001\n",
      "Target sparsity = 0.850\n",
      "Train epoch: 1 Average loss: 1197.2606\n",
      "======== Epoch 1  ========\n",
      "0\n",
      "1\n",
      "2\n",
      "Overall sparsity = 0.002, l1 strength = 0.00001\n",
      "Target sparsity = 0.850\n",
      "Train epoch: 1 Average loss: 1145.3889\n",
      "======== Epoch 1  ========\n",
      "0\n",
      "1\n",
      "2\n",
      "Overall sparsity = 0.002, l1 strength = 0.00002\n",
      "Target sparsity = 0.850\n",
      "Train epoch: 1 Average loss: 1185.4610\n",
      "======== Epoch 1  ========\n",
      "0\n",
      "1\n",
      "2\n",
      "Overall sparsity = 0.002, l1 strength = 0.00004\n",
      "Target sparsity = 0.850\n",
      "Train epoch: 1 Average loss: 1156.2924\n",
      "======== Epoch 1  ========\n",
      "0\n",
      "1\n",
      "2\n",
      "Overall sparsity = 0.002, l1 strength = 0.00006\n",
      "Target sparsity = 0.850\n",
      "Train epoch: 1 Average loss: 1132.7955\n",
      "======== Epoch 1  ========\n",
      "0\n",
      "1\n",
      "2\n",
      "Overall sparsity = 0.002, l1 strength = 0.00012\n",
      "Target sparsity = 0.850\n",
      "Train epoch: 1 Average loss: 1080.8543\n",
      "======== Epoch 1  ========\n",
      "0\n",
      "1\n",
      "2\n",
      "Overall sparsity = 0.002, l1 strength = 0.00021\n",
      "Target sparsity = 0.850\n",
      "Train epoch: 1 Average loss: 951.8772\n",
      "======== Epoch 1  ========\n",
      "0\n",
      "1\n",
      "2\n",
      "Overall sparsity = 0.002, l1 strength = 0.00038\n",
      "Target sparsity = 0.850\n",
      "Train epoch: 1 Average loss: 1097.9595\n",
      "======== Epoch 1  ========\n",
      "0\n",
      "1\n",
      "2\n",
      "Overall sparsity = 0.002, l1 strength = 0.00068\n",
      "Target sparsity = 0.850\n",
      "Train epoch: 1 Average loss: 1122.9561\n",
      "======== Epoch 1  ========\n",
      "0\n",
      "1\n",
      "2\n",
      "Overall sparsity = 0.002, l1 strength = 0.00122\n",
      "Target sparsity = 0.850\n",
      "Train epoch: 1 Average loss: 1130.7730\n",
      "======== Epoch 1  ========\n",
      "0\n",
      "1\n",
      "2\n",
      "Overall sparsity = 0.002, l1 strength = 0.00219\n",
      "Target sparsity = 0.850\n",
      "Train epoch: 1 Average loss: 1138.9316\n",
      "======== Epoch 1  ========\n",
      "0\n",
      "1\n",
      "2\n",
      "Overall sparsity = 0.002, l1 strength = 0.00395\n",
      "Target sparsity = 0.850\n",
      "Train epoch: 1 Average loss: 1095.3578\n",
      "======== Epoch 1  ========\n",
      "0\n",
      "1\n",
      "2\n",
      "Overall sparsity = 0.001, l1 strength = 0.00712\n",
      "Target sparsity = 0.850\n",
      "Train epoch: 1 Average loss: 1153.8708\n"
     ]
    }
   ],
   "source": [
    "def splitdata(dicts):\n",
    "    test_valid_size = int(len(dicts) * 0.1)\n",
    "    test_data  = dicts[:test_valid_size]\n",
    "    valid_data = dicts[test_valid_size : test_valid_size*2]\n",
    "    train_data = dicts[test_valid_size*2 :]\n",
    "    return train_data, valid_data, test_data\n",
    "\n",
    "files = glob.glob('./Dataset/*')\n",
    "for period, file in enumerate(files):\n",
    "    contents = open(file, 'rb')\n",
    "    dicts = pickle.load(contents)\n",
    "    dicts = dicts[:100] # 無くしたい\n",
    "    if period==0:\n",
    "        bow_vocab = gensim.corpora.Dictionary(dicts)\n",
    "        bow_vocab_size = len(bow_vocab)\n",
    "        hidden_dim = 50\n",
    "        topic_num = 15\n",
    "        batch_size = 32\n",
    "        sita_hat = None\n",
    "        model = trainer.Estimator(input_dim = bow_vocab_size, hidden_dim = hidden_dim, topic_num = topic_num)\n",
    "    train_data, valid_data, test_data = splitdata(dicts)\n",
    "    last_batch_idx = len(dicts)//batch_size-1\n",
    "    # ntm_model, pred_sita, train, z_valid = model.fit(train_data, valid_data, bow_vocab, batch_size, period, n_epoch=1)\n",
    "    sita_hat = None\n",
    "    sita_hat = model.fit(train_data, valid_data, bow_vocab, batch_size, last_batch_idx, sita_hat, n_epoch=1)"
   ]
  },
  {
   "cell_type": "code",
   "execution_count": 34,
   "metadata": {},
   "outputs": [
    {
     "data": {
      "text/plain": [
       "tensor([[0.1396, 0.0239, 0.0263,  ..., 0.0221, 0.1890, 0.0608],\n",
       "        [0.0582, 0.0133, 0.0250,  ..., 0.0225, 0.2440, 0.0666],\n",
       "        [0.0729, 0.0186, 0.0256,  ..., 0.0234, 0.2535, 0.0801],\n",
       "        ...,\n",
       "        [0.0858, 0.0352, 0.0254,  ..., 0.0125, 0.2291, 0.0738],\n",
       "        [0.1421, 0.0133, 0.0249,  ..., 0.0042, 0.3370, 0.0403],\n",
       "        [0.1147, 0.0223, 0.0327,  ..., 0.0232, 0.1612, 0.0616]])"
      ]
     },
     "execution_count": 34,
     "metadata": {},
     "output_type": "execute_result"
    }
   ],
   "source": [
    "import torch\n",
    "z = torch.softmax(z_train, dim=1).detach()\n",
    "z"
   ]
  },
  {
   "cell_type": "code",
   "execution_count": 6,
   "metadata": {},
   "outputs": [],
   "source": [
    "from torch import nn\n",
    "import torch\n",
    "loss = nn.MSELoss()\n",
    "# input = torch.randn(1, 5, requires_grad=True)\n",
    "input = torch.tensor([1.0, 2.0, 3.0])\n",
    "target = torch.tensor([1.0, 2.0, 3.0])\n",
    "# target = torch.tensor([2, 2, 3])\n"
   ]
  },
  {
   "cell_type": "code",
   "execution_count": 4,
   "metadata": {},
   "outputs": [
    {
     "ename": "NameError",
     "evalue": "name 'target' is not defined",
     "output_type": "error",
     "traceback": [
      "\u001b[1;31m---------------------------------------------------------------------------\u001b[0m",
      "\u001b[1;31mNameError\u001b[0m                                 Traceback (most recent call last)",
      "\u001b[1;32m<ipython-input-4-d5a93703cc22>\u001b[0m in \u001b[0;36m<module>\u001b[1;34m\u001b[0m\n\u001b[1;32m----> 1\u001b[1;33m \u001b[0mtarget\u001b[0m\u001b[1;33m\u001b[0m\u001b[1;33m\u001b[0m\u001b[0m\n\u001b[0m",
      "\u001b[1;31mNameError\u001b[0m: name 'target' is not defined"
     ]
    }
   ],
   "source": [
    "target"
   ]
  },
  {
   "cell_type": "code",
   "execution_count": 8,
   "metadata": {},
   "outputs": [
    {
     "data": {
      "text/plain": [
       "tensor(0.)"
      ]
     },
     "execution_count": 8,
     "metadata": {},
     "output_type": "execute_result"
    }
   ],
   "source": [
    "import torch\n",
    "from torch import nn\n",
    "target = torch.tensor([[1.0, 2.0, 3.0]])\n",
    "input = torch.tensor([[1.0, 2.0, 3.0]])\n",
    "loss = nn.MSELoss()\n",
    "loss(input, target)\n",
    "# a = torch.cat((target, input), 0)\n",
    "# torch.softmax(a, dim=1)\n",
    "# target.add_(input)\n",
    "# target + input"
   ]
  },
  {
   "cell_type": "code",
   "execution_count": 12,
   "metadata": {},
   "outputs": [
    {
     "ename": "RuntimeError",
     "evalue": "Boolean value of Tensor with more than one value is ambiguous",
     "output_type": "error",
     "traceback": [
      "\u001b[0;31m---------------------------------------------------------------------------\u001b[0m",
      "\u001b[0;31mRuntimeError\u001b[0m                              Traceback (most recent call last)",
      "\u001b[0;32m/var/folders/44/08dvs7wn6t5_jn5sxxsly14c0000gn/T/ipykernel_6248/503755249.py\u001b[0m in \u001b[0;36m<module>\u001b[0;34m\u001b[0m\n\u001b[1;32m      1\u001b[0m \u001b[0mtarget\u001b[0m \u001b[0;34m=\u001b[0m \u001b[0mtorch\u001b[0m\u001b[0;34m.\u001b[0m\u001b[0mrandn\u001b[0m\u001b[0;34m(\u001b[0m\u001b[0;36m1\u001b[0m\u001b[0;34m,\u001b[0m\u001b[0;36m1000\u001b[0m\u001b[0;34m)\u001b[0m\u001b[0;34m\u001b[0m\u001b[0;34m\u001b[0m\u001b[0m\n\u001b[0;32m----> 2\u001b[0;31m \u001b[0mnn\u001b[0m\u001b[0;34m.\u001b[0m\u001b[0mMSELoss\u001b[0m\u001b[0;34m(\u001b[0m\u001b[0mtarget\u001b[0m\u001b[0;34m,\u001b[0m \u001b[0mtarget\u001b[0m\u001b[0;34m)\u001b[0m\u001b[0;34m\u001b[0m\u001b[0;34m\u001b[0m\u001b[0m\n\u001b[0m",
      "\u001b[0;32m~/opt/anaconda3/lib/python3.9/site-packages/torch/nn/modules/loss.py\u001b[0m in \u001b[0;36m__init__\u001b[0;34m(self, size_average, reduce, reduction)\u001b[0m\n\u001b[1;32m    525\u001b[0m \u001b[0;34m\u001b[0m\u001b[0m\n\u001b[1;32m    526\u001b[0m     \u001b[0;32mdef\u001b[0m \u001b[0m__init__\u001b[0m\u001b[0;34m(\u001b[0m\u001b[0mself\u001b[0m\u001b[0;34m,\u001b[0m \u001b[0msize_average\u001b[0m\u001b[0;34m=\u001b[0m\u001b[0;32mNone\u001b[0m\u001b[0;34m,\u001b[0m \u001b[0mreduce\u001b[0m\u001b[0;34m=\u001b[0m\u001b[0;32mNone\u001b[0m\u001b[0;34m,\u001b[0m \u001b[0mreduction\u001b[0m\u001b[0;34m:\u001b[0m \u001b[0mstr\u001b[0m \u001b[0;34m=\u001b[0m \u001b[0;34m'mean'\u001b[0m\u001b[0;34m)\u001b[0m \u001b[0;34m->\u001b[0m \u001b[0;32mNone\u001b[0m\u001b[0;34m:\u001b[0m\u001b[0;34m\u001b[0m\u001b[0;34m\u001b[0m\u001b[0m\n\u001b[0;32m--> 527\u001b[0;31m         \u001b[0msuper\u001b[0m\u001b[0;34m(\u001b[0m\u001b[0mMSELoss\u001b[0m\u001b[0;34m,\u001b[0m \u001b[0mself\u001b[0m\u001b[0;34m)\u001b[0m\u001b[0;34m.\u001b[0m\u001b[0m__init__\u001b[0m\u001b[0;34m(\u001b[0m\u001b[0msize_average\u001b[0m\u001b[0;34m,\u001b[0m \u001b[0mreduce\u001b[0m\u001b[0;34m,\u001b[0m \u001b[0mreduction\u001b[0m\u001b[0;34m)\u001b[0m\u001b[0;34m\u001b[0m\u001b[0;34m\u001b[0m\u001b[0m\n\u001b[0m\u001b[1;32m    528\u001b[0m \u001b[0;34m\u001b[0m\u001b[0m\n\u001b[1;32m    529\u001b[0m     \u001b[0;32mdef\u001b[0m \u001b[0mforward\u001b[0m\u001b[0;34m(\u001b[0m\u001b[0mself\u001b[0m\u001b[0;34m,\u001b[0m \u001b[0minput\u001b[0m\u001b[0;34m:\u001b[0m \u001b[0mTensor\u001b[0m\u001b[0;34m,\u001b[0m \u001b[0mtarget\u001b[0m\u001b[0;34m:\u001b[0m \u001b[0mTensor\u001b[0m\u001b[0;34m)\u001b[0m \u001b[0;34m->\u001b[0m \u001b[0mTensor\u001b[0m\u001b[0;34m:\u001b[0m\u001b[0;34m\u001b[0m\u001b[0;34m\u001b[0m\u001b[0m\n",
      "\u001b[0;32m~/opt/anaconda3/lib/python3.9/site-packages/torch/nn/modules/loss.py\u001b[0m in \u001b[0;36m__init__\u001b[0;34m(self, size_average, reduce, reduction)\u001b[0m\n\u001b[1;32m     16\u001b[0m         \u001b[0msuper\u001b[0m\u001b[0;34m(\u001b[0m\u001b[0m_Loss\u001b[0m\u001b[0;34m,\u001b[0m \u001b[0mself\u001b[0m\u001b[0;34m)\u001b[0m\u001b[0;34m.\u001b[0m\u001b[0m__init__\u001b[0m\u001b[0;34m(\u001b[0m\u001b[0;34m)\u001b[0m\u001b[0;34m\u001b[0m\u001b[0;34m\u001b[0m\u001b[0m\n\u001b[1;32m     17\u001b[0m         \u001b[0;32mif\u001b[0m \u001b[0msize_average\u001b[0m \u001b[0;32mis\u001b[0m \u001b[0;32mnot\u001b[0m \u001b[0;32mNone\u001b[0m \u001b[0;32mor\u001b[0m \u001b[0mreduce\u001b[0m \u001b[0;32mis\u001b[0m \u001b[0;32mnot\u001b[0m \u001b[0;32mNone\u001b[0m\u001b[0;34m:\u001b[0m\u001b[0;34m\u001b[0m\u001b[0;34m\u001b[0m\u001b[0m\n\u001b[0;32m---> 18\u001b[0;31m             \u001b[0mself\u001b[0m\u001b[0;34m.\u001b[0m\u001b[0mreduction\u001b[0m\u001b[0;34m:\u001b[0m \u001b[0mstr\u001b[0m \u001b[0;34m=\u001b[0m \u001b[0m_Reduction\u001b[0m\u001b[0;34m.\u001b[0m\u001b[0mlegacy_get_string\u001b[0m\u001b[0;34m(\u001b[0m\u001b[0msize_average\u001b[0m\u001b[0;34m,\u001b[0m \u001b[0mreduce\u001b[0m\u001b[0;34m)\u001b[0m\u001b[0;34m\u001b[0m\u001b[0;34m\u001b[0m\u001b[0m\n\u001b[0m\u001b[1;32m     19\u001b[0m         \u001b[0;32melse\u001b[0m\u001b[0;34m:\u001b[0m\u001b[0;34m\u001b[0m\u001b[0;34m\u001b[0m\u001b[0m\n\u001b[1;32m     20\u001b[0m             \u001b[0mself\u001b[0m\u001b[0;34m.\u001b[0m\u001b[0mreduction\u001b[0m \u001b[0;34m=\u001b[0m \u001b[0mreduction\u001b[0m\u001b[0;34m\u001b[0m\u001b[0;34m\u001b[0m\u001b[0m\n",
      "\u001b[0;32m~/opt/anaconda3/lib/python3.9/site-packages/torch/nn/_reduction.py\u001b[0m in \u001b[0;36mlegacy_get_string\u001b[0;34m(size_average, reduce, emit_warning)\u001b[0m\n\u001b[1;32m     33\u001b[0m         \u001b[0mreduce\u001b[0m \u001b[0;34m=\u001b[0m \u001b[0;32mTrue\u001b[0m\u001b[0;34m\u001b[0m\u001b[0;34m\u001b[0m\u001b[0m\n\u001b[1;32m     34\u001b[0m \u001b[0;34m\u001b[0m\u001b[0m\n\u001b[0;32m---> 35\u001b[0;31m     \u001b[0;32mif\u001b[0m \u001b[0msize_average\u001b[0m \u001b[0;32mand\u001b[0m \u001b[0mreduce\u001b[0m\u001b[0;34m:\u001b[0m\u001b[0;34m\u001b[0m\u001b[0;34m\u001b[0m\u001b[0m\n\u001b[0m\u001b[1;32m     36\u001b[0m         \u001b[0mret\u001b[0m \u001b[0;34m=\u001b[0m \u001b[0;34m'mean'\u001b[0m\u001b[0;34m\u001b[0m\u001b[0;34m\u001b[0m\u001b[0m\n\u001b[1;32m     37\u001b[0m     \u001b[0;32melif\u001b[0m \u001b[0mreduce\u001b[0m\u001b[0;34m:\u001b[0m\u001b[0;34m\u001b[0m\u001b[0;34m\u001b[0m\u001b[0m\n",
      "\u001b[0;31mRuntimeError\u001b[0m: Boolean value of Tensor with more than one value is ambiguous"
     ]
    }
   ],
   "source": [
    "target = torch.randn(1,1000)\n",
    "nn.MSELoss(target, target)"
   ]
  },
  {
   "cell_type": "code",
   "execution_count": 36,
   "metadata": {},
   "outputs": [
    {
     "data": {
      "text/plain": [
       "1.0"
      ]
     },
     "execution_count": 36,
     "metadata": {},
     "output_type": "execute_result"
    }
   ],
   "source": [
    "output.item() + 1"
   ]
  },
  {
   "cell_type": "code",
   "execution_count": 64,
   "metadata": {},
   "outputs": [
    {
     "data": {
      "text/plain": [
       "array([0.10635299, 0.12664911, 0.04766772, 0.02757354, 0.05697789,\n",
       "       0.05699783, 0.03527545, 0.11439677, 0.07075627, 0.04713076,\n",
       "       0.05768883, 0.12192362, 0.02987717, 0.03248456, 0.06824748])"
      ]
     },
     "execution_count": 64,
     "metadata": {},
     "output_type": "execute_result"
    }
   ],
   "source": [
    "term_z = []\n",
    "for i in range(topic_num):\n",
    "    term_z.append(sum(z[:,i]))\n",
    "term_z = np.array(term_z)\n",
    "# z = torch.softmax(z, dim=1).detach().cpu().numpy()\n",
    "# z_a\n",
    "term_z/sum(term_z)"
   ]
  },
  {
   "cell_type": "code",
   "execution_count": 55,
   "metadata": {},
   "outputs": [
    {
     "data": {
      "text/plain": [
       "array([0.11836473, 0.13411619, 0.0479399 , 0.        , 0.06292735,\n",
       "       0.06392176, 0.02147614, 0.12511938, 0.0829907 , 0.04677167,\n",
       "       0.06448372, 0.13043394, 0.00752335, 0.01465324, 0.07927793])"
      ]
     },
     "execution_count": 55,
     "metadata": {},
     "output_type": "execute_result"
    }
   ],
   "source": [
    "from sklearn.preprocessing import MinMaxScaler\n",
    "\n",
    "#正規化のクラスを準備\n",
    "ms = MinMaxScaler()\n",
    " \n",
    "#特徴量の最大値と最小値を計算し変換\n",
    "ms.fit_transform(term_z.T).T[0]/sum(ms.fit_transform(term_z.T).T[0])"
   ]
  },
  {
   "cell_type": "code",
   "execution_count": 6,
   "metadata": {},
   "outputs": [
    {
     "name": "stderr",
     "output_type": "stream",
     "text": [
      "c:\\Users\\err09\\anaconda3\\lib\\site-packages\\numpy\\core\\fromnumeric.py:3372: RuntimeWarning: Mean of empty slice.\n",
      "  return _methods._mean(a, axis=axis, dtype=dtype,\n",
      "c:\\Users\\err09\\anaconda3\\lib\\site-packages\\numpy\\core\\_methods.py:162: RuntimeWarning: invalid value encountered in true_divide\n",
      "  ret = um.true_divide(\n",
      "posx and posy should be finite values\n",
      "posx and posy should be finite values\n",
      "posx and posy should be finite values\n",
      "posx and posy should be finite values\n",
      "posx and posy should be finite values\n",
      "posx and posy should be finite values\n",
      "posx and posy should be finite values\n",
      "posx and posy should be finite values\n",
      "posx and posy should be finite values\n",
      "posx and posy should be finite values\n",
      "posx and posy should be finite values\n",
      "posx and posy should be finite values\n",
      "posx and posy should be finite values\n",
      "posx and posy should be finite values\n",
      "posx and posy should be finite values\n",
      "posx and posy should be finite values\n",
      "posx and posy should be finite values\n",
      "posx and posy should be finite values\n",
      "posx and posy should be finite values\n",
      "posx and posy should be finite values\n",
      "posx and posy should be finite values\n",
      "posx and posy should be finite values\n"
     ]
    },
    {
     "data": {
      "image/png": "[encoded data removed]",
      "text/plain": [
       "<Figure size 720x576 with 2 Axes>"
      ]
     },
     "metadata": {
      "needs_background": "light"
     },
     "output_type": "display_data"
    }
   ],
   "source": [
    "grid_graph.grid_graph(z_train, topic_num)"
   ]
  },
  {
   "cell_type": "code",
   "execution_count": null,
   "metadata": {},
   "outputs": [],
   "source": []
  },
  {
   "cell_type": "markdown",
   "metadata": {},
   "source": [
    "## 6. Performance Evaluation"
   ]
  },
  {
   "cell_type": "code",
   "execution_count": 19,
   "metadata": {},
   "outputs": [
    {
     "name": "stderr",
     "output_type": "stream",
     "text": [
      "c:\\Users\\err09\\OneDrive\\Project\\Study\\01_topicmodel\\FLmodel_NTM\\trainer.py:158: VisibleDeprecationWarning: Creating an ndarray from ragged nested sequences (which is a list-or-tuple of lists-or-tuples-or ndarrays with different lengths or shapes) is deprecated. If you meant to do this, you must specify 'dtype=object' when creating the ndarray\n",
      "  self.data = np.array(data)\n",
      "c:\\Users\\err09\\OneDrive\\Project\\Study\\01_topicmodel\\FLmodel_NTM\\trainer.py:159: VisibleDeprecationWarning: Creating an ndarray from ragged nested sequences (which is a list-or-tuple of lists-or-tuples-or ndarrays with different lengths or shapes) is deprecated. If you meant to do this, you must specify 'dtype=object' when creating the ndarray\n",
      "  self.bow_data = np.array([bow_vocab.doc2bow(s) for s in data])\n",
      "c:\\Users\\err09\\anaconda3\\lib\\site-packages\\torch\\nn\\_reduction.py:42: UserWarning: size_average and reduce args will be deprecated, please use reduction='sum' instead.\n",
      "  warnings.warn(warning.format(ret))\n"
     ]
    },
    {
     "name": "stdout",
     "output_type": "stream",
     "text": [
      "PP(test) = 16427.260\n"
     ]
    }
   ],
   "source": [
    "dataloader_test  = trainer.DataLoader(test_data, bow_vocab, batch_size, shuffle=False)\n",
    "pp_test = trainer.compute_perplexity(ntm_model, dataloader_test)\n",
    "print(\"PP(test) = %.3f\" % (pp_test))"
   ]
  },
  {
   "cell_type": "code",
   "execution_count": 20,
   "metadata": {
    "scrolled": true
   },
   "outputs": [
    {
     "name": "stdout",
     "output_type": "stream",
     "text": [
      "Writing to ./topwords_e9999.txt\n",
      "Topic 0: テーブル ワイヤ スパン 駆動装置 シリンダ 走行レール 検出精度 ウインチ 位置情報 右\n",
      "Topic 1: 型枠 設 配筋 鉄筋 コンクリート 施工 工期 現場 Ｃ 径\n",
      "Topic 2: 他端 移動 一端 先端 型枠 後方 コンクリート 両端 セメント 隔壁\n",
      "Topic 3: 建物 スパン 一般 電波 コスト 平面図 付加機能 上記課題 上記実施 履歴\n",
      "Topic 4: 内面 － 特開平 下部 複数 材 両端 ～図 隔壁 型枠\n",
      "Topic 5: 上記 説明 図面 形態 技術分野 図 実施形態 課題 効果 符号\n",
      "Topic 6: 上部 ｄ 実施形態 ｃ 作業 側面図 ｂ 号公報 両側 上面\n",
      "Topic 7: 地震 架構 降伏点鋼 剛性 モーメント 溶接等 鋼材 鉛直荷重 柱 記載\n",
      "Topic 8: 同上 水底 一定間隔 ドライ空間 斜路 水上 目成形ケーソン ケーソン側壁 降下状態 ケーソン成形型枠装置\n",
      "Topic 9: － 特開平 号公報 トンネル 記載 後方 外側 地山 掘削 左右\n",
      "Topic 10: 斜視図 内面 図示 径 後方 ｄ 中央 左右方向 円筒状 前方\n",
      "Topic 11: 地震 部分 変位 ダンパー 下部 水平力 上面 揺れ 架構 構造\n",
      "Topic 12: 両端 断面図 周面 参照 他方 端部 ｃ ｂ 増強 端面\n",
      "Topic 13: 部材 力 形状 方向 一端 移動 間隔 斜視図 上下 内側\n",
      "Topic 14: 効率 程度 方向 装置 前記 範囲 面 作業 問題点 他\n",
      "[[ 7.1993372e-06 -1.6985834e-06  1.4108712e-06 ... -2.9334951e-05\n",
      "  -4.0255563e-05 -2.6012287e-05]\n",
      " [ 8.6775499e-06  9.9357158e-07 -7.0794440e-06 ...  1.0917112e-05\n",
      "  -6.3899970e-06  3.1294971e-05]\n",
      " [ 1.8935904e-06 -9.3974234e-07 -4.7839849e-06 ... -2.4753861e-05\n",
      "  -2.1822005e-05 -3.7616854e-05]\n",
      " ...\n",
      " [ 1.6902081e-06 -2.5305806e-06  3.5194039e-06 ... -6.1711791e-05\n",
      "  -3.5940255e-05 -2.2357799e-05]\n",
      " [-8.5179781e-06 -4.4525768e-06  6.6510302e-06 ...  3.5564182e-05\n",
      "   4.3075372e-05  4.3023956e-05]\n",
      " [-9.3602875e-07 -1.3951710e-05  3.7516397e-06 ... -5.1770667e-06\n",
      "   2.0776852e-05 -1.0609367e-05]]\n"
     ]
    }
   ],
   "source": [
    "logdir = \"./\"\n",
    "ntm_model.print_topic_words(bow_vocab, os.path.join(logdir, 'topwords_e%d.txt' % 9999))"
   ]
  },
  {
   "cell_type": "raw",
   "metadata": {},
   "source": []
  },
  {
   "cell_type": "raw",
   "metadata": {},
   "source": []
  },
  {
   "cell_type": "markdown",
   "metadata": {},
   "source": [
    "## 7. Predict"
   ]
  },
  {
   "cell_type": "code",
   "execution_count": 21,
   "metadata": {},
   "outputs": [
    {
     "name": "stdout",
     "output_type": "stream",
     "text": [
      "\n",
      "===== # 1, Topic : 13, p : 14.7881 %\n",
      "Topic words : 部材, 力, 形状, 方向, 一端, 移動, 間隔, 斜視図, 上下, 内側\n",
      "Input : 破壊 孔 破壊電極 進行方向 衝撃波 内部 図 破壊対象 挿入物 電解液 内部形状 プラズマ破壊方法 プラズマ破壊装置 上記発明 発明 形状 反射衝撃波 すり鉢状 回転楕円体 軸方向 上記孔 断面図 上記衝撃波 実施 パルスパワー源 上記内部形状 対数螺旋形状 形態 側方 上記進行方向制御手段 孔加工手段 孔内部 構成 所望 破壊力 焦点 挿入物配置手段 先端 コンデンサバンク 同軸ケーブル エネルギー 方向 楕円体 境目 液 効率 破壊方法 ～（ｃ 電極 反射 岩石 手段 法線方向 側面 すり鉢形状 平面衝撃波 壁面 部分 ラプチャーディスク すり鉢状部分 ａ すり鉢 上記挿入物 破壊対象自体 孔底面 進行方向制御手段 上記破壊対象自体 底部 容器状 上記電解液 上記境目 上記回転楕円体 接地電極 箇所 向き 奥 層状 圧力 技術 角度 導電体 絶縁体 制御 加工 中央部 回転楕円形 特定方向 略回転楕円体 導線部分 外周部 構造 日本規格協会 説明 スイッチ 電荷 破損 他方 凸 音速 底 配置 方位 範囲 先端付近 電解液層状注入手段 装置 動作原理 図示省略 遮蔽層 放電 放電エネルギー 寿命化 円錐状 原理 干渉縞 高山和喜 破裂弁 特許請求 孔あけ 先端形状 円錐形状 上記目的 上記ラプチャーディスク 上記実施 回路 電源 ｂ ロス 上述 曲面 転換 屈折 特性 所望形状 円柱形状 特定 一定 対数螺旋流路 ｃ 筐体 中央部分 遷移図 概念図 断面構造 中心部分 周囲 ドリル 水 課題 出口 斜め 中空部分 既知 参照 フォーカス 内側 渦 文献 はなし ｐ ～ 意味 一方向 矢印 近傍 圧力増幅率 干渉 自体 円錐 衝撃圧力 問題点 発生点 技術分野 特開平 号公報 形 衝撃 周辺機器 目的 一定角度 － 概要 車体 片側 極 電位差 内面 固体 穴 例 上方 挙動 順 下方 曲線 下端 一般 集中 抑制 任意 意義 母線 種類 比重 差 角 rupture disc 内壁 空間 媒体 例示 均等 変更 効果 図面 様子 符号\n",
      "\n",
      "===== # 2, Topic : 5, p : 13.1272 %\n",
      "Topic words : 上記, 説明, 図面, 形態, 技術分野, 図, 実施形態, 課題, 効果, 符号\n",
      "Input : 吸着材 シート状捕捉吸着体 捕捉吸着体 吸着性基材 アニオン交換基 カチオン交換基 シート イオン交換基 内装材 有害ガス シート状 吸着基材 交換基 捕捉吸着 塩基性臭気 吸着性 収蔵庫 上記吸着性基材 ガス捕捉シート 展示室 捕捉性 床材 展示ケース ホルムアルデヒド等 微粒子状 吸着ガス 吸着特性 アンモニア 空調機 コンクリート ホルムアルデヒド 通気性シート 備品等 上記シート状捕捉吸着体 酸性臭気 図 ガス 発明 μｇ 有機酸等 接着等 作業性 コンクリート建材 吸着基材自体 材 上記吸着材 請求項 布シート カチオン交換基スルホン酸基 アンモニア等 美術館 コンクリート壁 塩基性 前記吸着材 シート状物 上記カチオン交換基 吸着性能 吸着能 アニオン交換基強塩基性 有機酸 例 混合物 ポリエステル繊維製 通気性 活性炭 内装材等 方法 リン酸基等 カルボキシル基 アンモニウム基 無機質多孔性体 実施例 断面図 汎用性 可能性 美術品 手段 m 接着材 有機質多孔性体等 化学吸着特性 構造 種類 上記 棚 コンクリート面 重合性単量体 ゼオライト 形態 物理的吸着 高分子多孔体等 館 粒状 シリカゲル パネル 給気口 室内 空気 実施 布 固着手段 合成樹脂シート ガス物質 特定ガス 取り付けスペース 下げ状態 スチレンスルホン酸 布等 陳列室等 展示空間 空調 説明 博物館 絵画 一対 単独 種々 問題等 アミン等 場所等 シリカゲル等 棚等 美術館等 課題 複数 箇所 アクリル酸グリシジル 空間 床 接着 備品 内装パネル アンモニア発生量 収納庫 上記方法 混合系 ホルムアルデヒド用 室内設置型空気清浄機 空調装置 空調運転 ボード面 アンモニア用 変質 号 新建材 コスト 上記課題 記載 図面 他方 e ｈ 発生 特性 室内空間側 所定混合比 分解斜視図 内側面 状態 下げ 取り付け グラフト重合法 室内換気 コスト高 吸湿ボード 生産コスト 固定手段 作業工程 劣化防止対策 装着方法 具体的例 技術分野 技術 館建物 ケミカルフィルター 除去 除去機能 休館日 建物 使用開始 相当日数 大型化 対策 特開平 ぶん構造 生産 物質 アミン 電離線 所定 融着 任意箇所 流路 漏れ出 複数種類 粒状活性炭 ブレンド割合 必要サイズ 場所 保護 館内 通常 夜間 竣工 音 特許 － 前者 後者 効率 目的 マイナス 原因 施工 特徴 パルプ 公知 紫外線 プラズマ ラジカル 材質 紙 形状 二つ 別 内面 a 埋設 b c 内部 d 材料 一端 f g 浄化 敷設 かなり 低減 片面 mm 厚み 層 ℃ ローラ 上下 処理 酢酸 効果 形成 分離 能力 符号\n",
      "\n",
      "===== # 3, Topic : 13, p : 36.0295 %\n",
      "Topic words : 部材, 力, 形状, 方向, 一端, 移動, 間隔, 斜視図, 上下, 内側\n",
      "Input : パイプ 敷設方法 方法 カウンター 水底 材 水底パイプ 敷設船 弾性材料 パイプa 図 敷設 発明 鋼棒 重量 敷設船上 材料 可能性 クランプｂ 敷設パイプ 説明図 陸上用 状態 外周 敷設船ｄ 比重 軸方向 溝 陸上 水底敷設パイプ 周囲 接着剤 相対移動 円弧板 合成樹脂製 軽量 力 クランプｂ群 構造 水 作業 市販パイプ 樹脂系パイプ ポリエチレンパイプ パイプドラム 説明 延長方向 円周方向 信頼性 一般 環状 テンションワイヤｃ ヒンジ部 管状体 内側 帯 外力 敷設方法特徴 繊維 連結構造 重量不足 弾性 軽量パイプa 実施例 ヒンジ 取り付け 球体継手 取付け方法 敷設場所 敷設状態 合成樹脂繊維 繊維製 鋼製 直径 次 イ ロ ハ 目的 上記 間隔 相互 ピッチ バンド 方向 工場 効果 帯鋼 弾性材 繊維バンド 天然繊維 化学繊維 炭素繊維 弾性部材 用 塑性材料 水底パイプライン ポリエチレン製 歯部 装備 課題 波浪 影響 図面 反対 程度 耐力 流れ ～ ニ 移動 位置 連結 市販 取付け 櫛 機能 変位 扱い 各種 破損 塩化ビニール製 環状体 筒体 端部 帯状体 底部 材ドラム 断面図 実施 歯状 歯 延長 不足 カウンター群 一般市販 重量物 取付けピッチ 連結楔 鉄帯 取付け順序 取り付けかた 溝状 取り付け数 技術分野 技術 特徴 問題点 手段 複数 鉄 部材 ボルトナット ボルト ナット 外周面 重り 分散重り 帯状 凹凸模様 固定手段 複数本 外向き 挟持 固定 案内ローラー 経済効果 抵抗力 工場生産 水深 海底 大型 取り扱い 現場 距離 陸 構成 状況 設備 複数個 態様 需要 種類 自重 通常 使用 鉛 一定 個 波 剛性 他 両側 寸法 形状 介在 ずれ ゴム 関係 両者 意味 ホ ロープ 製品 ポリエステル ナイロン ヘ 所定 結合 嵌め込み リベット 公知 等間隔 閉合部 カシメ 応力 ト 外側 外部 甲板 チ 強度 姿勢 条件\n",
      "\n",
      "===== # 4, Topic : 13, p : 30.4343 %\n",
      "Topic words : 部材, 力, 形状, 方向, 一端, 移動, 間隔, 斜視図, 上下, 内側\n",
      "Input : 床面 空気 人工芝 支持体 空気通路 供給 敷設構造 供給口 図 床 空気溜り 説明図 実施例 空気供給部 構造 発明 空気供給口 空気供給路 競技場 蓋 単位面積当たり重量 状態 溝 コンクリート製 が床面 空気供給構造 装置 説明 供給路 取りドラム ロープ 敷設方法 重量 供給パイプ 供給位置 目的 ドラム 敷設 方法 地下室 方向 水平方向 木製 浮上 次 イ ロ しわ 上向き 全面 力 空気溜りａ 空気流路 平面 直方体 半球体 実施 例 板体 点状 敷設状態 競技 半球状 取り作業 巻き取りドラム 展示場 送風機 サッカー 芝生 下 排気口 課題 山状 労力 空気圧 図面 上面 ハ 線状 他端 縁 枠 角柱状 突起 範囲 圧力 下面 茶碗状 目状 効果 断面図 合成樹脂製 送風機程度 人工芝重量 端部 地下 問題点 展示会場 技術分野 技術 作業 複数本 平面性 パイプ 収納装置 茶碗 群 直方体群 摩擦抵抗 位置 コンサートホール 床下 展開 多量 付近 前面 構成 ローラー 手数 あと 整然 手段 上記 特徴 態様 各種 球技 コンサート 客席 アメリカンフットボール 上部 取り付け 間隔 幅 影響 利用 障害 ニ 一端 外部 コンプレッサー 圧 ホ 回転 ヘ ト 介在 形状 チ 基礎 シート 芝 球体 リ 碁盤 ヌ 桟 ル 荷重 一定 微量\n",
      "\n",
      "===== # 5, Topic : 5, p : 17.2528 %\n",
      "Topic words : 上記, 説明, 図面, 形態, 技術分野, 図, 実施形態, 課題, 効果, 符号\n",
      "Input : 監視領域面 変動量 上記監視領域面 のり面 変動 デジタル画像 領域 座標データ 図 投影画像データ 上記 状態 画像 監視範囲 領域面 碁盤目 崩壊兆候 Ａ デジタルカメラ 上記変動量 碁盤目状 変動量出力装置 投影画像 撮影デジタル画像 面 監視対象 対象斜面画像 形態 コンター図 データ 監視業務 実施 立体画像 等高線 ステレオ撮影 計測器 位置 写真撮影 画像データ 兆候 面的単位 的メッシュ面 線 のり面崩壊 目 撮影範囲 発明 装置 標点 パソコン 表層崩壊 ｘ 不動点 挙動監視 挙動 ｙ 変動図 ステレオデジタル画像 写真地形図 崩壊評価 座標 測量 基礎地盤崩壊 各々 判断材料 立体写真測量 上記パソコン 連続面 出力 変動挙動 格子図 部分 縦横 ｚ 隆起変動 陥没変動 代表変動 写真 説明 表層情報 上記コンター図 交点 ｃ 地点 実線 固定条件 撮影条件 撮影位置 細分化 テクスチャーマッピング処理 層崩壊 撮影箇所 撮影台 撮影枚数 杭 ワイヤ 所定 経過 色 基準 所 事前 日付データ 技術 箇所 ソフトウエア 陥没 隆起 出力形態 指示点 断面図 線図 等高線図 説明図 固定点 概略構成図 偏位修正座標系 不動点用標点 測量等 方法 上述 伸縮 課題 局所局所 関係 直線状 ２つ 鎖線 点線 視覚 条件 コスト 位置情報 状況 リアル 間隔指示等 ＸＹＺ目盛り Ｚ目盛り 縦方向 横方向 技術分野 可能性 手段 初期状態 制御手段 解析ソフトウエア ）－（ｘ 設置工事 設置 自由度 目視 踏査 黒丸 印 個々 当該 図上 任意 概要 パーソナルコンピュータ 周知 被写体 人 空間 原理 複数 役割 種類 例 ｂ ａ 値 システム 次 三脚 仮 動き 入力 手間 メンテナンス 場所 設定 変更 数値 Ｘ 効果 図面 イメージ図 符号\n",
      "\n",
      "===== # 6, Topic : 5, p : 14.8859 %\n",
      "Topic words : 上記, 説明, 図面, 形態, 技術分野, 図, 実施形態, 課題, 効果, 符号\n",
      "Input : 作動油 油圧室 油路 リリーフ弁 油圧室Ｒ 油路Ｐ 制震用油圧ダンパ チェック弁 制御弁 作動状態 開閉制御弁 油圧 前記油路 減衰力 作動 該制震用油圧ダンパ 弁体 Ｐ オイルタンク アキュムレータ 設定値 ピストン 通路Ｐ 主弁 ダンパ性能 実施形態 圧力 通路 開閉作動 前記 Ｒ 実施 パイロット弁 発明 作動領域 上記実施形態 図 請求項 ピストンロッド リリーフ作動 周囲温度 流れ 油圧上昇 油圧回路 一対 領域 ダンパ特性 油圧低下 制震対象物 前記リリーフ弁 シリンダ 往復動 ピストン速度 油温 状態 前記チェック弁 揺れ 圧 ｃ 電気制御装置 建物 風等 圧力変動 移動速度 弁座 振動外力 要因 図示省略 油圧回路図 減衰作用 減衰効果 減衰係数 体積 速度 上昇等 流動 ｂ 構成 前記アキュムレータ 圧力低下 上記設定値 直列 並列 他方 振動 流量 開閉 特開平 号公報 公報 程度 形態 ＭＰａ程度 接続部位Ｐ 説明 地震 振幅 周期 絞り ピストン移動量 左上接続部位Ｐ 移動量 軸方向移動 上記 最大値Ｃｍａｘ 最小値Ｃｍｉｎ 変化等 断面図 軸方向 両側 － 変化 課題 機能 全量 所期 図面 基盤 向き ｄ 通常 内部 圧力センサ 所定速度 拡大断面図 作用 効果 体積変化 下流側 上流側 技術分野 技術 連通 最大 最小 検出信号 略一定 調圧弁 種 一つ 悪影響 影響 手段 特徴 右 遮断 閉型 方法 ストロークセンサ ～ よう スプリング 使用 個数 下方 符号\n",
      "\n",
      "===== # 7, Topic : 13, p : 32.8914 %\n",
      "Topic words : 部材, 力, 形状, 方向, 一端, 移動, 間隔, 斜視図, 上下, 内側\n",
      "Input : 免震装置 上部荷重支持支柱 既設柱 上部荷重 増打コンクリート 柱 既存柱 免震化工法 図 コンクリート 免震構造化 荷重 既存建物 免震化 梁 免震構造化工法 増打 支持支柱 柱巻き鋼板 スラブ ジャッキ フラットジャッキ 増打部 切断 配筋 上記上部荷重支持支柱 構造 支持杭 上部 部分 軸力 上部構造体 工程 免震装置付き既設柱 既設 施工 実施 形態 フープ筋 免震装置取り付け 上部ベースプレート 免震構造化技術 柱巻き補強鋼板 架台 コンクリート増打部 支持体 増打部分 発明 中間部 鉄骨柱 せん断補強筋 隅部 軸径 免震装置上部架台 上部構造 型枠 状態 上部架台 下部 収縮モルタル 切断個所 座屈 支柱 下部ベースプレート フラットジャッキ等 作業 建物 コンクリート構造 下端部 地中梁 方式 免震装置設置用 鋼鈑 コア抜き 出隅部 免震装置上部架台配筋用 下端 コスト 耐火被覆 参照)、免震装置 切断面 補強用 補強 壁 補強筋 梁下端 梁接合部 切断位置 外周面 盛り替え 上下部分 下方 形態図 柱切断位置 施工効率 コスト低減 免震化工法 所定 ａ 面 工程図 上記実施 Ａ 切断片 長期軸力 設置 基礎部 上下 独立柱 柱外面 当該柱 切断部 上階 割フープ ジャッキ等 ｂ 軽量化 耐火被覆材 強度 位置 隅 圧入工法 既設スラブ 露出部分 断面図 アンカー 耐火処理 フープ筋用 サポート 段階 上方 外壁等 作業性 矢視 耐火処置 切断作業 切断面等 ジャッキレス工法 モルタル 杭 鋼板 取付位置 切り取り位置 範囲 撤去 ダイヤモンドワイヤソー 鉄筋 低減 施工工程図 架台施工図 ジャッキアップ 施工コスト 縦筋 下端部分 上記ジャッキ方式 水平切断面 設置部分 モルタル注入図 外周部 収縮モルタル等 特開平 号公報 等 問題点 回転スペース 樹脂アンカー 適用 外壁 強度スパイラルフープ筋 露出部 基礎梁 中間部分 切断器具 取り付け図 下方部 設置完了図 説明 工期 角柱 一体 図示 プレート 設 外部 向上 矢視図 準備 グラウトモルタル 狭隘部 表面 手段 鋼管 上記 準備工程図 耐震補強対策 下方部分 切除部分 鋼板厚 技術 取り付け 注入 溶接 配置図 設定図 施工手順 コスト上昇 上下スラブ 製造コスト 開口部分 目溶接等 外周 キャンバー設置 手段等 上方向 手押し水圧ポンプ等 現場作業 挿入 周囲 アンカージベル スタッドジベル 機能 重量 運搬 組み立て 人手 課題 距離 取り扱い 図面 本数 支障 階 上述 押圧力 かご 通常 他 効果 調整用 技術分野 溶接付け グラウトモルタル注入 水平方向 スラブ下 機械式継手方式 処置 長期 板 水平 切り取り グラウト仕切り板 排水処理 参照)。 参照)。【 必要性 鉛直方向 せき板 切除量 縦主筋 適用例 適用範囲 山止め壁 除去費用 例 表面仕上げ ＣＵＴ線 主筋 目 費用 仕上げ 角形鋼管 天端 開放状態 分割撤去 －（Ａ 提案 最初 地盤 構築 手間 相応 耐力 スタットジベル ダイヤモンドチェーンカッター 硬化 役目 設開口 防火 状況 改善 全長 目的 後述 ケース 間隔 内部 同数 所望 移動 上側 順 方法 単独 間隙 鉄筋コンクリート ースプレート レベル 空隙 結合 一体化 手法 操作 部材 種類 趣旨 種々 変更 心配 削減 符号\n",
      "\n",
      "===== # 8, Topic : 13, p : 26.7727 %\n",
      "Topic words : 部材, 力, 形状, 方向, 一端, 移動, 間隔, 斜視図, 上下, 内側\n",
      "Input : 免震装置 上部荷重支持支柱 上部荷重 増打コンクリート 柱 既設柱 既存柱 荷重 免震構造化 既存建物 ジャッキ 免震化工法 図 上部 コンクリート 免震構造化工法 構造 免震化 梁 配筋 柱巻き鋼板 支持支柱 架台 上部構造体 工程 支持杭 免震装置取り付け 軸力 施工 免震構造化技術 免震装置付き既設柱 上部ベースプレート 支保用ジャッキ 部分 既設 柱巻き補強鋼板 隅部 コンクリート増打部 支持体 増打部 ＰＣ鋼線 スラブ 発明 鋼鈑 増打部分 せん断補強筋 上部構造 切断 増打 軸径 鉄骨柱 支柱 作業 免震装置上部架台 フープ筋 コンクリート構造 方式 地中梁 上記上部荷重支持支柱 状態 座屈 下部ベースプレート 免震装置設置用 免震機構 実施 形態 ジャッキ上部 下部 免震装置上部架台配筋用 免震装置取り付け部位 出隅部 免震装置取付位置 型枠 長期軸力 コスト 部材 上記免震装置上部架台配筋用 上部架台 建物 補強用 外周面 補強 上記既存柱 補強筋 荷重計 壁 梁接合部 収縮モルタル 工法 ｂ 耐火被覆 架台コンクリート 取り付け 盛り替え 設置完了図 基礎部 当該既存柱 切断位置 免震化工法 上下部分 ａ 所定 面 柱切断位置 プレストレス 矢視 ジャッキアップ 既設建物 基礎部材 鉄筋 切断個所 コンクリート用 上下 独立柱 柱外面 切断片 外周 切断部 収縮コンクリート 軽量化 特開平 問題点 段階 コア抜き 上階 隅 取り付け部位 割フープ 強度 下端 圧入工法 手押し水圧ポンプ等 平面図 形態図 施工効率 アンカー コスト低減 フープ筋用 外壁等 サポート 上方 切断面 設置 梁等 既設スラブ ＰＣ鋼線等 外周部 切断面等 杭 鋼板 耐火処置 作業性 切り取り位置 架台施工図 取り付け図 上記実施 準備 Ａ Ｂ ジャッキレス工法 縦筋 工程図 施工図 施工工程図 設置部分 最初 長期 参照 表面 ダイヤモンドワイヤソー 上述 基礎梁 円周方向 施工コスト モルタル 等 水平切断面 作業完了図 負担軸力 上下部外周 モルタル注入図 コンクリート充填鋼管 号公報 切り取り 外壁 低減 強度スパイラルフープ筋 ジャッキダウン 上記ジャッキ方式 キャンバー設置等 矢視図 中間部 狭隘部 説明 工期 発生 一体 メンテナンス 撤去 プレート 設 収縮モルタル注入 キャンバー設置 梁下端 配置工程図 グラウトモルタル 鋼管 端面 範囲 注入 位置 適用 コストアップ 耐震補強対策 取付位置 鋼板厚 技術 ＣＵＴ線 溶接 断面図 設定図 露出部分 施工手順 準備工程 目溶接等 コスト上昇 製造コスト 耐火被覆材 プレストレス機構 ひび割れ等 鉄筋等 手段等 圧縮力 躯体表面 耐火処理 調整ピース等 開口部分 間隙部分 切除部分 水平方向 挿入 周囲 例 構築 アンカージベル スタッドジベル グラウトモルタル注入 重量 運搬 組み立て 人手 角柱 部位 課題 取り扱い 図面 図示 本数 水平 かご 通常 向上 点検 現場作業 効果 技術分野 溶接付け 露出個所 鉛直方向 維持部材 機械式継手方式 処置 板 号 処理 グラウト仕切り板 表面仕上げ 水平度 天端 スラブ下 排水処理 せき板 ケミカルアンカー 縦主筋 樹脂アンカー －（Ａ －（Ｂ 山止め壁 除去費用 主筋 目 費用 手段 仕上げ 回転スペース 負担 適用範囲 提案 地盤 手間 相応 耐力 スタットジベル ダイヤモンドチェーンカッター 硬化 機能 役目 設開口 防火 恐れ － 概要 施 特性 所望 状況 改善 最小限 距離 最小 全長 目的 後述 間隔 体勢 同数 上側 順 過程 稼動 押圧力 単独 ースプレート レベル 空隙 結合 一体化 手法 余分 外部 新規 交換 種類 趣旨 種々 変更 心配 削減 符号\n",
      "\n",
      "===== # 9, Topic : 9, p : 14.9461 %\n",
      "Topic words : －, 特開平, 号公報, トンネル, 記載, 後方, 外側, 地山, 掘削, 左右\n",
      "Input : グラウト材 セメント 隙間部 ～ 流動性 高性能ＡＥ減水剤 水 コンクリート隙間部 膨張剤 砂セメント比 砂 減水剤 コンクリート 水セメント比 発明 混和材 膨張率 圧縮強度 試験 Ｃ サンプルＡ～Ｃ 強度 ペースト状 セメント比 収縮グラウト材 Ａ 収縮性 混和剤 隙間 充填 幅 強度増進混和材等 ＡＥ減水剤 性能 混練物 高速 材料 膨張剤添加量 程度 サンプル 試験体 構造物 最大粒径 方法 充填性 施工性 継ぎ部 下部コンクリート 亀裂部等 混和材等 Ｎ 表 目的 添加 強セメント 上限値 混和材料 製造コスト 強度増進剤 Ｓ 割合 珪砂 混練工 ミキサ 重量比 前記水セメント比 所定 セメント水和物 収縮 セメントベース 減水性能 材齢 市販 地震等 砂結合材比 サンプルＢ ペースト温度 ガス発生性膨張剤 下限値 低速 製造方法 前記 範囲 次 硬化 ｍｍ コンクリート構造物 作業性 経済性 ＡＥ剤 発泡タイプ 高速回転 膨張反応 空隙部 発明者 構造耐力上一体性 膨張率損失 粒径 膨張効果 品質安定性 空気連行性 Ｗ 効率 上部コンクリート 強度低下 性能試験 前記試験 モルタル等 添加量 配合比 補修用注入剤 収縮モルタル等 低下 品質 表面水 効果 ガス サンプルＣ フロー試験 試験室 分離抵抗性確保 補修等 量 粒度分布 早強ポルトランドセメント等 悪化等 特殊アルミ粉末 フロー値 配合量 Ｊロート 下方 工法 上下 所要 一般 課題 特徴 実施 形態 反応遅延タイプ ３つ 通り 当たり 性状 mm 特殊アルミ粉 機械基礎下部 所定量 普通ポルトランドセメント 付着物 Ｊロート流下 最大荷重 配合 温度 既存材料 粉末状態 ＵＢ 低速回転 前記表 プレミックス製品 スランプ保持特性 ポリカルボン酸系 サンフロー株式会社製 技術分野 技術 上部 橋脚支承部 特開平 号公報 ブリージング防止 商品セルメック 号 セルメック ｋＮ 説明 沈下 一体化 各種 現場 所望 － 出願 相当 事情 手段 構成 工程 面 良質 両方 ＪＩＳ 参照 主成分 アルカリ性 アルミニウム マグネシウム 亜鉛 早期 ｍ 混練 エージング ％～ 悪影響 混練後 壁面 合計 サイズ 耐荷重\n",
      "\n",
      "===== # 10, Topic : 13, p : 28.9964 %\n",
      "Topic words : 部材, 力, 形状, 方向, 一端, 移動, 間隔, 斜視図, 上下, 内側\n",
      "Input : 分別土材 粘性土 枠 ワイヤー 図 分級用スクリーン バー材 径 土 粒径 機 上部 先端側 分別 弦振動 開口率 発明 間隔 小粒径 土材 傾斜 塊 スクリーン 先端 枠上部 mm 落下衝撃 振動 枠下部 バイブレータ 傾斜角度α 用 土塊 斜視図 上部構造 mmφ マサ土 土建現場 目 請求項 接触面積 分別用 要部構造 下部 作業員 形態 粘性土土塊 上部側 分級粒径 小粒径土砂 側面図 丸棒 一定間隔 配置間隔 説明 課題 固着 分別用土材 下部側 縦長長方形 付着性 実施 張設構造 実施形態 偏心カム せん断力 作業能率 要部 上部側下面 断面径 種 外周 前記 テンション ～ ｂ 鋼材 要部断面図 板 分別対象 上端側 丸鋼棒 粒径別 構造 投入作業 落し作業 作業中断 mm間隔 作業能率低下要因 大粒径 棒 角鋼棒 機先端 Ｈ型鋼 資源化 バックホウ 隙間 構成 直径 目安 手作業 手段 目的 所定 プレート 数値 繰返し振動 傾斜方向 資源化材料 改良構造 材料 一定 長手方向 張力材料 モータ軸 モータ回転 技術分野 技術 原石山 堆積表土 建設残土 架橋現象 添付図面 受け板 下面 横設鋼材 突出端 想像線 図面 花崗岩 砂利 コンクリートガラ 土砂 機械 同士 周囲 逆 剛体 特徴 自体 柱 ショベル 下端 背面 ナット 上下 ワーヤー 各種 強度 実機 バウンド 前述 形状 通常 懸念 効果 クリーン 符号\n",
      "\n",
      "===== # 11, Topic : 13, p : 16.5901 %\n",
      "Topic words : 部材, 力, 形状, 方向, 一端, 移動, 間隔, 斜視図, 上下, 内側\n",
      "Input : 孔 パイロット孔 薬液注入管 地盤 薬液 ドリルヘッド 外管 ボーリング機 改良対象地盤域 バックリーマー パッカー装着薬液注入管 大型建造物 上記 性 薬液注入孔 孔径 建造物 細孔 該薬液注入管 該パイロット孔 注入 滑剤 パッカー 工法 パッカー付き薬液注入管 ボーリング機側 改良工法 上記ドリルヘッド 孔距離 薬液注入管収容外管 薬液注入管収納外管 上記ボーリング機 薬液注入操作 改良対象地盤 対象建造物 障害物 ロッド 発明 改良 上記パイロット孔 図 先端 該ドリルヘッド 管 性薬液注入管 孔操作 孔ボーリング機 上記外管 立坑 対象 上記バックリーマー 上記薬液注入管 水平ボーリング機 該バックリーマー 操作 孔腔内 孔態様 ボーリング機本体側 直下 外管内 外管引き抜き操作 傾斜注入工法 開削式ボーリング機 地盤改良 開削工法 向き 該障害物 水平ボーリング 斜め 該パッカー装着薬液注入管 排土形式 先端部 アクリル酸系 水平注入 上記構造物 形成 吸水性ポリマー 無水マレイン酸系ポリマー 安全性 開削改良工法 上記建造物 薬液注入管配設用 塩化ビニル樹脂製 該建造物 合成高分子ポリマー 上記ボーリング機本体 既述 連結用 ドリルヘッド先端 最小曲率半径 出口側 天然高分子ポリマー 推進 孔開始用 合成樹脂 軸線 孔腔 孔ピッチ 孔工程 孔効率 孔道 孔精度 上記ボーリング機本体側 該改良対象地盤域 孔形成操作 斜めボーリング 位置 斜め下方 ドリルヘッド位置 該薬液 出口 既存建造物 土圧 自由度 吸水性ポリマー系滑剤 形成操作 構造物 浸透 目的 薬液圧入 上記立坑 該改良対象地盤域内 滑剤含有泥水 滑剤供給車 エステル系ポリマー ベントナイト系 アクリル系 吸水性ポリマー系等 先端部分 ヒアルロン酸系 施工 m ベントナイト系滑剤 澱粉系 セルロース系 糖類系 ポリビニルアルコール系 性ロッド 無水マレイン酸系ポリマー)、ポリエーテル系 孔予定軸線上 斜め上方 周囲 側壁 地表 入口 縮合系ポリマー 薬液調製装置 課題 通常 面 該外管 遊端 参照 概略図 パッカー保護用 該構造物 上記連結用ロッド 取り付け用 必要性 可能性 連結用ロッド 大型 発信器 実施例 作業員 態様 蛋白質系 該建造物直下 付加ポリマー 合成樹脂製 ベントナイト系滑材 説明 該立坑 時点 該本孔 水 mm ケーブル 引き抜き 破砕物状 取り付け用リング 該ロッド 精度 構築 近傍 周壁 状態 使用安全性等 周辺部 周壁部 入口部 該掘削部 掘削部 処理工法 発明工法 形式 中心部直下 切断操作 出口部分 所期 コスト 部位 個々 土砂 量 部分 箇所 布製 図面 固化 下方 後端 取り付け位置 取り付けリング 吸水ゲル 左右方向 上下左右 圧壊強度 斜視図 平面図 実施 等 上下方向 リング 構築コスト コスト高 一軸圧縮強度 コービー在 ケント在 粉末状 技術分野 既存 技術 周囲近傍 相当程度 効率 内部側壁 英国ノザンプトンシャー 米国ワシントン 泥膜 より目詰まり 工程 一端付近 回転 閉鎖状態 程度 回転駆動 微粒シリカゾルグラウト 圧入 付近 掘削 地表下 小型 垂直 幾つ 限界 手段 所定 特徴 形態 FlowMole Ltd サウス UTILX Corporation 外側 検知 倍 該泥膜 考慮 圧密式 役目 概要 該図 他端 cm 信号 道程 球状 後述 均斉 末端 バックリーマ 一緒 汎用 グラウト q kPa 移動 効果 規模 先 基本 高まり 符号\n",
      "\n",
      "===== # 12, Topic : 6, p : 11.7688 %\n",
      "Topic words : 上部, ｄ, 実施形態, ｃ, 作業, 側面図, ｂ, 号公報, 両側, 上面\n",
      "Input : 泥液 変形追随性 流動性 材料 吸水性ポリマー 廃棄物処分場 土質材料 浚渫底泥 廃棄物水面処分場 透水性土質材料 初期支持力 水土質材料 ゲル化 発明 透水土質材料 混合物 粒径 荷重 透水係数 偏荷重 水分量 添加量 透水地盤 透水性 透水性能 ～ 製品 立地 μm 硬化剤 m 含水微粒子 セメント 初期 粘着力 土粒子 処分場 水面処分場 廃棄物 吸水性ポリマー添加 吸水性ポリマー量 沖積粘性土層 ↑－↑ sec程度 含水比 発現 グラスファイバー 発明者 程度 方向性 可能性 細粒分 地盤 強度 樹脂 状態 所要量 水面埋立処分場 砂質地盤 水面立地 水中 繊維状 繊維状物 目的 原料 性質 性状 kg 軟弱層 泥状含水微粒子 添加材料 化学的技術 技術 不同沈下 製造方法 鉄鋼スラグ 湿潤密度 含水状態 団粒化 水材料 cm 固化 課題 木材 パルプ 綿 範囲 造粒 糖類ポリマー 条件 立地地盤 資源化技術 偏荷重せん断力 良質土混合 水 使用量 水性能 技術分野 製法技術 添加資材 沖積粘性土地盤上 山間立地 立地現地盤 主体 剛性 脱水 地点 適地 攪拌 特徴 処理 鉱滓 微粉 樹皮 自体 現地 発生 発生地 物理的技術 発生起源ごと 候補地 使用条件 場所 製法 物理 周辺住民 マンナン 天然系 セメント等 水中施工 存在場所 現場試験 説明 面積 クラック 劣化 ゼリー 粘土 乾燥 石灰 粒状 反対 状況 １つ ニーズ 遠隔 手段 該泥液 ガラクトース 実施 形態 水性 浮力 気 未満 だま 土壌 同等 各々 工費 選定 コスト 難点 増大 削減 最大 配合 効果 上記 利益\n",
      "\n",
      "===== # 13, Topic : 13, p : 45.0019 %\n",
      "Topic words : 部材, 力, 形状, 方向, 一端, 移動, 間隔, 斜視図, 上下, 内側\n",
      "Input : 工部材 ガイド管 実施形態 スライド管 工体 ネジ ナット部 図 伸縮継手 周方向 トンネル 継手部 ターンバックル ロック穴 端部 組立構造 前記ガイド管 部材 ロックピン ネジ穴 発明 管 Ｖ型溝 ロックネジ 周方向端部 作業 前記伸縮継手 トンネル壁面 前記 構造 先進導坑 突出 継手部分 調整 実施 天端 請求項 状態 周面 掘削作業 調整穴 軸方向 長手方向 Ｖ型突片 ガイド部 管端 伸縮継手手段 工部材継手部 形態 周方向継手部 方向 弧状 ピン 解体作業 正面図 接合端面 管端側 設置作業 トンネル内周面 伸縮継手構造 ピース部材 工 リング状 前記スライド管 端部Ｖ型溝 周方向継手手段 伸縮 前記スライド管側 組立 該ガイド管 断面 ＴＢＭ 他端側 手順 トンネル本体部分 手段 ロック 該スライド管 接合端側 端部内側 複数 セグメント 特徴 記載 角筒 側 天端側接合端 継手手段 前記実施形態 挫屈防止 説明 ～ ヒンジピン 組立手順 周方向両端面 トンネル内側 アーチ状 要部拡大図 調整作業 底部 シャフト部 掘削 要部拡大視図 組立作業 Ａ部拡大図 中空管 孤状 Ｂ部拡大視図 Ｃ部拡大視図 ロック穴間隔 他端側対向端 Ｖ型突起 左右方向 側面方向 同一部材 一つ 課題 ｂ 符号 前記先進導坑 進機 ボルト等 撤去作業 アーチ構造 周長 進作業 該ターンバックル 推進ジャッキ 構造物 永久構造 拡径状態 変形例 ネジ止め 作業性 拡幅掘削作業 先端部内側 解体撤去作業 構造そのもの アンロック 目的 他方 短縮 ａ 一端側 組立状態 左右 一端 シャフト 同一 効果 永久構造物 部分 壁面 道路トンネル 回転調整 掘削形成 組立完成状態 止係 高速掘削性 調整用 調整孔 解体 突出状態 切羽面 自由面 内壁面 接続部分 挫屈防止効果 突出先端 進性 手間 効率 両端 一対 他端 概略 アーチ 固定 内側 ）～（ 挿通 先端 突出長 伸張状態 リング分 止め係 リング形状 突出量 鋼製 係 回転 確保等 所定間隔 ピッチ間隔 接続一体化 鉄筋コンクリート製 鋼棒 回転数 伸張動作 技術分野 技術 シールド工法 形状 所定 力壁 地質調査 力 確保 縮径 添付図面 断面弧状 側面 拡径作業 円周率 拡径調整 図面 トンネルボーリングマシーン 支保工 一般 セクメントピース 領域 機能 当該 防護 拡張 拡径 操作 ターンバックル 一方向 構成 最初 上部 最後 逆 落石 裏側 鋼板 箇所 工程 実 図示 円筒 ズレ 支保 自体 任意 位置 施工 進行 工期\n",
      "\n",
      "===== # 14, Topic : 13, p : 50.8215 %\n",
      "Topic words : 部材, 力, 形状, 方向, 一端, 移動, 間隔, 斜視図, 上下, 内側\n",
      "Input : 型枠 前記型枠 土留め壁 コンクリート打設用型枠 補強フレーム 接続部材 内型枠 前記補強フレーム 横アングル材 セパレータ 基端部 係合部 コンクリート 縦アングル材 前記接続部材 メッシュ型枠 前記土留め壁 先端部 請求項 連結部 管パイプ 図 フォームタイ 前記係合部 前記セパレータ ネジ 土留め 前記 前記コンクリート打設用型枠 補強フレーム固定用アングル材 型枠どうし アングル材 ナット 縦断面図 内側 接続構造 前記横アングル材 棒状部材 両端部 ナット部 前記連結部 雌ネジ 作業 地下構造物 端部 雄ネジ 発明 前記型枠どうし 該型枠 一片部 片部 軸部 前記網目 管パイプ枠体 ｂ 該接続部材 記載 土留め壁側 土留め床部 該補強フレーム 型枠支持柱 構造物 該セパレータ 側端部 ｃ 一端部 該土留め壁 支持具 係合部分 方法 鉄筋 部材 該縦アングル材 挿入孔 該内型枠 サポート 角材 側 基端面 外側 鉄筋コンクリート 実施 形態 床部 前記雄ネジ ～図 壁体 所定 縦横 尺 課題 態様 部分 前記間隔 床や壁 外側面 鋼製部材 底部 該基端部 他端部 該先端部 間隔 鉛直下方 前記鉄筋 該フォームタイ 板状部材 筒状部材 該単管パイプ 説明 設 特徴 無数 網目 フック 複数 針金 表面 裏面 位置 圧接部 効果 上記 鋼製 棒状 両端 接部分 側方 側道 手間 山形鋼 鋼矢板等 開口 該当接部分 該挿入孔 下方 該型枠内部 所定間隔 掘削内部 技術分野 技術 構築方法 作業者 上記事情 掘削 貫通穴 一つ 骨組み 圧力 状態 他方 土 通り 場所 手段 地盤 壁面 構成 現場 側面 該鉄筋 方向 ２つ ａ 図面 符号\n",
      "\n",
      "===== # 15, Topic : 13, p : 23.4859 %\n",
      "Topic words : 部材, 力, 形状, 方向, 一端, 移動, 間隔, 斜視図, 上下, 内側\n",
      "Input : 補強部材 開口 強度連続繊維 鉄筋コンクリート造梁 鉄筋コンクリート造梁部材 マトリックス樹脂 部材 補強 開口補強構造 強度 梁部材 小型補強部材 図 梁主筋 大型補強部材 前記補強部材 前記高強度連続繊維 開口補強 エポキシ樹脂 前記開口 前記マトリックス樹脂 開口補強筋 補強部分 コンクリート 同心多角形 鉄筋コンクリート造 鉄筋 スターラップ ｂ 炭素繊維 リング状 °Ｃ ひび割れ発生 発明 断面形状 補強部材表面 補強部材自体 板状 人工軽量砂 横断方向 せん断強度 補強鉄筋 ひび割れ 軽量 実施 形態 断面図 せん断補強筋 ドーナツ形 終局せん断強度 同心状 性能 カブリ厚 セラミック球 アラミド繊維 砂 剛性 渦巻き状 程度 強度低下 付着性能 同心楕円 周囲 同心円 鉄筋コンクリート部材 外形図 内部 ａ 部分断面図 開口周囲 補強材 施工性 鉄筋コンクリート柱部分 エポキシ樹脂等 別 型枠 凹凸処理 形状 カブリ厚み 段状 複数 表面 終局強度 性能低下 °Ｃ程度 布状 同心円状 耐熱性能 ～ 円形 効果 状態 温度 長手方向 構成 奥行き方向 開口部 外形 径 発生 樹脂成形 空調設備ダクト 熱伝導率 同心 構成要素 四角形 棒状 空隙 穴 スリーブ 柱部分 ドーナツ状 前記砂 構造 課題 コンクリート側 熱 Ａ－Ａ断面図 前記課題 説明 量 歪み 応力 拡大 比重 鋼材 運搬 取付け 一体 発生防止 概略図 低下 耐熱性 各階 常法 付近 比 手段 作用 代わり 所定形状 軟化 改善 フック 配筋 孔 参照 内径 重ね コンクリートカブリ厚 複数段 奥行き 火災等 上記課題 底部 付加的構成 技術分野 技術 高分子材料 火災 外径 取付用 上下 建物 変化 要因 特徴 一般 近傍 上部 側面 位置 力 モーメント 負荷 図面 符号\n",
      "\n",
      "===== # 16, Topic : 5, p : 11.8566 %\n",
      "Topic words : 上記, 説明, 図面, 形態, 技術分野, 図, 実施形態, 課題, 効果, 符号\n",
      "Input : 繊維 軽量コンクリート 軽量骨材 骨材 軽量 ポリプロピレン 波形ポリプロピレン 軽量性 繊維混入軽量コンクリート 鋼繊維 Ｄ 強度 波形 ストレート形 ビニロン繊維 コンクリート 材料分離指数 軽量骨材コンクリート ベースコンクリート ポリプロピレン繊維 Ｄ系 ～ Ｄ繊維 分散性 図 容積 Ａ室 ストレート形ポリプロピレン 硬化性状 化学繊維 繊維径 フレッシュ性状 発明 強度特性 形状 高性能ＡＥ減水剤 表 耐摩耗性 配合 ピッチ幅 骨材絶乾重量 Ｄ系統 振動締固め 理想形 軽量骨材配合 天然軽量骨材 クラック 軽量骨材自身 人工軽量骨材 材料分離抵抗性試験 産軽量骨材 Ｃ 材齢 繊維混入コンクリート 細骨材 Ａ系統 耐疲労性 天然骨材 谷 ポリカルボン酸系 靭性 耐衝撃性 Ａ 山 Ｂ系統 混入 落下回数 Ｃ系 Ｂ室 親水性処理 ベース軽量コンクリート 自己支持性形状 締固め 混入率 繊維Ａ～Ｄ 繊維Ｃ Ａ系コンクリート 破壊 材料分離抵抗性 性状 材料 繊維補強コンクリート 天然細骨材 θ 幅クラック 特性 スランプ 繊維入り ストレート形ポリプロピレン繊維入り 材料分離 実施例 人工軽量 強度コンクリート 長手方向 ベース 材料分離抵抗 状態 波 セメント 親水性 Ａ～Ｄ 形状例 鋼繊維入り 硬化品 ストレート系 ビニロン繊維入り 鋼繊維自身 硬化コンクリート 貫通クラック 分散 混入量 耐久性 セメントペースト Ｂ系 アミノスルホン酸系 メラミンスルホン酸系 比重 成形 直線状 ポリカルボン酸エーテル系標準形 ℃水中養生 破壊形態 特徴 通常 課題 方向 Ｋｇ Ｌ 直線距離 加工品 平面図 円筒形 ストレート 該繊維混入 ナフタリンスルホン酸塩系 ポリカルボン酸エーテル タフネス 傾斜角 平面 外数 高性能減水剤 構造用コンクリート ≒Ｄ ピッチ 流動コンクリート 絶乾重量 モルタル 現象 前記 種類 範囲 傾向 Ｃ系統 各種強度 付着強度 圧縮強度 裂引張強度 せん断強度 一端 効果 低下 モールド 室 指数 特性値 耐疲労特性 波形状態 波形成形 単位容積重量 鋼製モールド 量 重量 親水処理 一端支持 太平洋セメント株式会社製 配合量 一定ピッチ クラック発生状況 単位容積質量 説明 次 ＪＩＳＡ 投入 実施 他端 向性 発生 径 川砂 ひび割れ 構造用部材 混和剤 補強効果 スランプ値 株式会社エヌエムビー 試験体内 コルゲート板 膨張けつ岩 膨張粘土 膨張スレート 膨張スラグ 添加量 空気量 表面処理 ペースト 加工 形態 単位水量 波板 線状 計算値 強制パン型ミキサ 商品名ポゾリスＳＰ 方形板 斜視図 普通ポルトランドセメントＳ 静弾性係数 比重差 品質等 ≒θ 他部 高低差 中心部 スランプ低下 品質改善 脆性的破壊 技術分野 技術 流動 せん断 発明者 該短繊維 他 焼成フライアッシュ 火山れき 各種 高低 Ｓ 表面 棒状バイブレータ 下式 接着力 鉄球 対数軸 浮き上がり 相違 界面 ～( 性質 面 現状 程度 さいし 手間 手段 影響 交互 外部 応力 波線 一方向 o 理由 進展 副 高め ｍ 目標 容量 等間隔 新潟 Ｇ アサノスーパライト 前者 フアイバーボール マトリックス φ 仕切 内径 あと 上層 下層 両者 比 一般 殆 参照 他方 位置 増加 向上 最大 図面 外形 関係\n",
      "\n",
      "===== # 17, Topic : 13, p : 22.4723 %\n",
      "Topic words : 部材, 力, 形状, 方向, 一端, 移動, 間隔, 斜視図, 上下, 内側\n",
      "Input : 推進管 注入 薬液注入範囲 図 注入孔 薬液注入 地山 計画トンネル 薬液 トンネル 薬液注入方法 注入管 推進 セミシールド機 可動発進架台 注入方法 注入効果 発進基地 切羽 薬液注入等 注入完了 防護屋根 注入ホース 水 薬液注入工程 説明図 構築方法 孔機 範囲 作業員 孔 裏込注入 計画断面 推進施工 掘削 発明 断面図 圧入 崩落 薬液注入効果 Ａ－Ａ断面図 Ｂ－Ｂ断面図 アーチ状 注入材 浸透注入 補助工法 斜視図 説明 作業台 管復相注入 発信基地 隙間 天井部等 隣接推進管 外周部 ジャッキ 周囲 盲キャップ 概略斜視図 先端 注入不良箇所 圧入方法 内部 止水 計画範囲 推進完了 天井部分 管径 地盤 部分 位置 崩落防止 バルブ 掘削装置 地山内部 周辺地盤 天井部 推進施工終了 強度低下 請求項 濃度泥水 水等 等 鋼管 目的 実施 形態 外側 下 コンクリート ステージ 作業 防護 同士 施工 確認 箇所 効果 パイプルーフ工法等 地山中 床部 先端部 水層 パイプルーフ工法 崩落等 地下水 地滑り等 掘削部分 シラス等 天井部外側 影響 課題 地上 かなり 距離 複数 特徴 図面 手前 押輪 カッタ 変形 恐れ スライム 効果確認 掘削面 切羽側 濃度 泥水 強度 到達回収坑 上部層 軟弱地盤 無水層 逸脱防止 切羽前方 到達地点 技術分野 技術 土圧 空洞化 地表沈下 対応策 一定間隔 スプリングライン 上部 水平方向 坑口リング 緩み 間隔 千鳥配置 同士隙間 緩み域 確実性 m程度 構造物 一般 空間 進行 間隙 含水分 増大 土砂 流出 背面 破壊 陥没 拡大 手段 落下 出水 ＳＬ 吹付 前面 支圧板 役割 本体 利用 蛇行 最小限 剛性 一緒 伴 側面 不連続 ピッチ 支障 他 進 変化 人力 各々 通常 近傍 低圧 ボーリング ドリル 簡易 機械 設置 符号\n",
      "\n",
      "===== # 18, Topic : 13, p : 21.6669 %\n",
      "Topic words : 部材, 力, 形状, 方向, 一端, 移動, 間隔, 斜視図, 上下, 内側\n",
      "Input : 建築用合成材 集成材 構造用 図 ドリフトピン 構造部材 合成材 木材板 鋼板 建築物 接合部位 形態 造作用 発明 部位 構造安全性 長手方向 該建築用合成材 実施 構造用部材 実施形態 断面図 上記 安全性 説明 部材 個所数 板厚 建築 垂直方向 両面 同等 当該集成材 必要個所数 繊維方向 等 水平方向 接着剤等 屋内工事仕上げ用 説明図 特徴 補剛効果 鉄骨等 端部 中央部 断面寸法 態様 木材 上記構造 上記木材板 樹脂製 請求項 ドリフトピン等 座屈耐力 該集成材 基体 符号 両側 耐力 構成 接合 方法 課題 剛性 接合部 上記実施形態 屋内仕上げ工事 鉛直方向 当該図 適用可能性 環境 風情 目的 手段 記載 面 所 上記事情 上記課題 垂直関係 適用 効果 ガセットプレート 配置関係 適用範囲 技術分野 技術 特徴点 固定方法 ＳＳ－ 規格品 構成要素 両端 固定 前記両端 中間地点 剛性低下 角材 強度 棒状 ボルト 表面 悪影響 荷重 対応 現状 要求 主体 ろ 内部 影響 下記 詳述 対象 同一 複数 材料 すじ 斜め 所定 位置 二つ 都合 サンドイッチ 全長 任意 図面\n",
      "\n",
      "===== # 19, Topic : 9, p : 12.3452 %\n",
      "Topic words : －, 特開平, 号公報, トンネル, 記載, 後方, 外側, 地山, 掘削, 左右\n",
      "Input : 繊維 流動コンクリート 流動性 強度 ポリプロピレン コンクリート 波形ポリプロピレン 靭性 鋼繊維 ストレート形 波形 スランプフロー値 Ｄ ビニロン繊維 スランプフロー 高性能ＡＥ減水剤 ベースコンクリート ～ 発明 硬化性状 ストレート形ポリプロピレン 繊維混入高流動コンクリート 繊維径 Ｄ繊維 フレッシュ性状 剤 表 流動 山 理想形 形状 流動特性 ポリプロピレン繊維 ピッチ幅 骨材 繊維混入コンクリート 谷 Ａ系統 Ａ 繊維混入 分散性 図 混和剤 調整目地コンクリート 自己支持性形状 混入量 ポリカルボン酸系 繊維補強コンクリート 充填 セメント 配合 Ａ系高流動コンクリート 無配筋部 添加量 親水性処理 ベース θ 繊維Ｃ 単位水量 量 隙部 せん断強度 繊維Ａ～Ｄ 混和材 容積 長手方向 ストレート形ポリプロピレン繊維入り 流動コンクリート自身 強度化 繊維配合 状態 Ｃ 補修コンクリート 混入 形状例 自己充填性能 親水性 自己充填性 Ａ－ Ｄ系 測定値 高性能減水剤 直線状 Ｂ－ 砕石高性能ＡＥ減水剤 材料分離抵抗 鋼繊維入り 硬化性状 ビニロン繊維入り 耐久性 成形 波 効果 ポリカルボン酸系標準形 高炉スラグ微粉 補修コンクリート等 課題 増 方向 クラック 材料 直線距離 Ｃ系 断面修復 vol.％，( アミノスルホン酸系 無配筋 Ｂ系 傾斜角 平面 微粉 ストレート 平面図 Ｄ系統 Ｄ－ ナフタリンスルホン酸塩系 ピッチ メラミンスルホン酸 橋梁 程度 石粉 範囲 重量 フアイバーボール 高密度配筋部 特性値 シリカフューム 一端 硬化 断面補修部等 隙部等 ≒Ｄ 調整目地 付着強度 材料分離 圧縮強度 Ｃ系統 Ｃ－ 無配筋箇所 せん断強度試験 細骨材 配合量 特性 単位セメント量 波形状態 波形成形 Ｂ系統 材齢 Ｂ 一端支持 一定ピッチ 空気量 粉体量 株式会社エヌエムビー社製 説明 手段 補強法 補強効果 通常 特徴 フライアッシュ 一種 モルタル 他端 向性 種類 ウエランガム 添加 径 普通ポルトランドセメント砂 線状 団子状 晶株式会社製 適用例 シリカフューム等 実施例 分散 コルゲート板 山砂砂利 タフネス試験 vol.％ 表面処理 商品名ＳＰ 波板 ≒θ 技術分野 技術 温度ひび割れ 発明者 実施 バイオガム 軸ミキサー 高低差 高低 弾性係数 鉄筋 コスト 上昇 懸念 種々 犠牲 加工 影響 前記 水 他 形態 交互 外部 応力 波線 一方向 o 理由 発生 進展 高め 組合せ 各種 粘性 容量 Ｌ 強制 比重 等間隔 次 Ｓ 低下 形成 他方 物性 隙間 空隙 図面\n",
      "\n",
      "===== # 20, Topic : 13, p : 13.0970 %\n",
      "Topic words : 部材, 力, 形状, 方向, 一端, 移動, 間隔, 斜視図, 上下, 内側\n",
      "Input : スタンド検出台 スタンドアーム 目的自転車 車輪検出部 自転車駐車システム スタンド 図 案内溝 先端部 自転車 車輪 出し入れ機構 ゲート装置 傾斜部 検出範囲 スタンド使用状態 検出状態 上記スタンド検出台 使用状態 状態 車輪検出 側面図 駐車 発明 スタンド検出動作 起立保持用 前記スタンド検出台 上記車輪検出部 スタンド検出台高 異状 位置 輪 検出信号 頂部 要部側面図 輪検出 車輪検出信号 ゲート Ａ矢視図 Ｂ矢視図 所定 案内 Ｃ－Ｃ線拡大断面図 ゲート部 範囲 フロア 目的 上記構成 上記案内溝 受け渡し 入庫 出庫 通過 前輪通過検出タイミング システム 先端部Ｈ 異状対応 取扱い者 前記案内溝 移送機器 デッドロック状 構成 使用位置 説明 ロック 前輪 課題 異状状態 正常状態 自立出し入れ リフトアップ動作 動作タイミング リフトアップ 上記課題 上記フロア 上記発明 事前 処置 実施 形態 図面 基準 取扱い 元 等 別 作用 受け渡し動作 効果 重量センサ等 位置決め用 光学センサ 音声ガイダンス等 移送 タイミング 対応 取扱い工程 転倒等 正常入庫 正常確認 リフト量 技術分野 技術 側方 信頼性 走行クランプ Ｈ 障害部材 側 人手 支障 周囲 干渉 損傷 原因 手段 車体 後方 前方 底面 事故 未然 解除 前側 符号\n",
      "\n",
      "===== # 21, Topic : 13, p : 38.5442 %\n",
      "Topic words : 部材, 力, 形状, 方向, 一端, 移動, 間隔, 斜視図, 上下, 内側\n",
      "Input : 外側足場 内側足場 足場 躯体 躯体Ｋ 昇降装置 型枠足場 構造物 内部空間 外側 内側 型枠 図 クライミング足場 コンクリート 外側型枠 連結部材 クライミングジャッキ クライミングロッド 発明 スリップフォーム工法 クライミング 躯 クライミング操作 施工法 枠 Ｋ 接部材 外側用 水平力 内側型枠 ｂ 車輪 内側用 特開平 号公報 鉛直荷重 状態 側面図 躯体表面 外側足場共通 外側部材 工法 発明クライミング足場 連結ビーム コストアップ 内側部材 装置 側 ｃ 外足場 内外側型枠 左側部分 右側部分 外側面 コンクリート壁 部材 内側面 外側共 説明 ー 相互 鉄筋コンクリート構造物 橋脚 共通 所定 位置 センターコア構造 施工 施工コスト 進退装置 橋脚Ｋ 課題 台数 力受け 操作 接 ブラケット 内外面 内外 コアー等 煙突等 円形等 前記問題点 技術分野 煙突 技術 所定位置 前記 断面形状 形状 建物 鉄筋 分割 手段 実施 形態 先端 外面 内面 態様 交互 四角形 効果 数 図面 符号\n",
      "\n",
      "===== # 22, Topic : 13, p : 24.9896 %\n",
      "Topic words : 部材, 力, 形状, 方向, 一端, 移動, 間隔, 斜視図, 上下, 内側\n",
      "Input : パイロット弁 開閉弁 パイロット流路 止め弁 作動油圧 作動室 作用室 弁座 導入流路 作動油 主弁体 主流路 弁体 弁本体 接続流路 止め弁体 実施形態 閉弁用流路 前記作動室 前記作用室 弁 用油圧ダンパ 前記パイロット流路 孔 連通流路 小径孔 図 流路 前記開閉弁 作用力 貫通孔 作用 環状溝 油圧回路図 前記閉弁用流路 摺動孔 底孔 圧力 作動 形電磁弁 応答性 前記導入流路 側 作用方向 前記パイロット弁 コイルばね 路 環状室 連通 接続孔 着座面 栓部材 開弁方向 径孔 励磁信号 方向 前記 開弁 制御回路 応答 シート部材 該パイロット弁 閉弁状態 圧力センサ 作動油圧力 付勢力 状態 前記主弁体 部材 リリーフ弁 発明 閉弁方向 該導入流路 実施 形態 低圧側 作動油圧力 他方 前記作動室側 拡大断面図 規制部材 ケース部材 振動外力 パイロット形 シリンダ 開弁状態 ばね付勢力 アキュムレータ スプール 挿入孔 技術 押さえ部材 摺動 ストロークセンサ 課題 ｂ 軸方向 頭部側 該作用室 振動 外力 対象物 開位置 説明 変位 流出 構成 一端 受圧面 断面図 貫通溝 円錐形状 有底孔 離座方向 着座方向 出力 背部 圧力均衡等 シリンダ本体 開状態 上昇等 構造物等 背部側 外周面 吐出 吸入 一対 向き 逆 ピストン 温度上昇 分 瞬時 上昇 閉作動 手段 両側 図面 閉位置 ソレノイド アーマチュア 高圧 効果 破損等 周囲温度 技術分野 基台 減衰 周囲 減衰特性 構造 外周 地震 風 気温 環境 低下 次 遮断 特徴 該弁座 流入 番号 中心 螺 圧入 移動 ２つ 径方向 鉄心 他 所定 値 閉弁 かかわり 例 本題 要旨 範囲 態様 符号\n",
      "\n",
      "===== # 23, Topic : 13, p : 26.6438 %\n",
      "Topic words : 部材, 力, 形状, 方向, 一端, 移動, 間隔, 斜視図, 上下, 内側\n",
      "Input : 硬化材 先端部材 硬化材混入 硬化材混入工法 硬化材混入層 注入管 硬化材混入装置 四角柱状硬化材混入層 硬化材注入 四角柱状硬化材混入工法 噴射孔 円柱状硬化材注入工法 図 回動 四角柱状硬化材混入層Ｖ 下側 噴射 発明 円柱状硬化材注入層 流体 土砂 硬化材注入層 先端 孔 地盤 縦断面図 硬化材注入工法 制御板 行い硬化材混入 ノズル 行い硬化材注入 高圧 円柱状硬化材混入工法 圧縮空気 四角柱状硬化材注入工法 高圧水 先端両側 工法 垂下状 効率 壁体 部分 流量 状態 貯留槽 上側 側面 圧力 例 揺動 連壁 油圧シリンダ 円柱状混入工法 一定 地中 壁 噴出 下端 上方 入管 影響 前記先端部材 左右 前記注入管 手段 変動 水平状 斜視図 施工 長方形状 斜め状 上記 両側 土 軟弱地盤 対象地盤 切削跡 実施例 床版 セメントミルク 切削 水平壁体 止水壁 壁厚 地中壁 垂直壁体 説明 下方 アスファルト ｃｍ 程度 複数個 効果 距離 噴射効率 ＣＣＰ工法 ＪＳＧ工法 ＣＪＧ工法 上下側 方向 噴射順序 ノズル孔 噴出孔 移動方向 廃泥 一定方向 制御盤 場所 課題 図面 ～ 所要 ステップ Ｖ 方法 チェーンソー ワイヤー 数 筒体 上下面 接線方向 左右方向 軸方向 廃泥液 地下駐車場 実施 前記 地下室 地下ダム 水平状態 図示例 外周面 周面 移動速度 移動区間 切断跡 施工効率 一定流量 技術分野 構築物 基礎 地山 技術 円弧部分 基礎工事 隣接地域 基端 ボーリングマシン 到達距離 平面視 箇所 遠隔操作 切断 特定箇所 流動速 付近土砂 連結部 ユニバーサルジョイント 支保 目的 内外 中心 放射状 住宅 態様 アースオーガー 深度 軟岩 終了 単独 角度 エスカレータ 片側 ソイルカッター アースカッター 等 地上 位置 機構 関係 適用 加工 間隔 増加 複数 面積 差 排出 形成 上述 開口 符号\n",
      "\n",
      "===== # 24, Topic : 9, p : 16.9661 %\n",
      "Topic words : －, 特開平, 号公報, トンネル, 記載, 後方, 外側, 地山, 掘削, 左右\n",
      "Input : 掘削土砂 掘削土砂搬出施設 スラリー処理施設 泥量 泥管 土砂 排泥管 排泥量 掘削 掘削土砂量 スラリー 泥ポンプ 排出管 分岐排出管 排泥ポンプ 泥水 量 搬送掘削土砂量 搬出量 スラリー管理 切替装置 掘削土砂管理システム 搬出 泥水量 前記 搬送土砂量制御手段 処理 スラリー量 スラリー管理システム 計量掘削土砂量 掘削土砂管理方法 スラリー返送量制御装置 処理施設 搬送土砂量制御装置 泥水供給量制御装置 残存処理能力 運行管理装置 排泥量ＱＤ スラリー返送量制御手段 処理量 運転制御施設 泥水供給量制御手段 前記搬送掘削土砂量 掘削土砂管理 前記計量掘削土砂量 運搬装置 圧送ポンプ 切羽Ｈ 掘削土砂処理施設 処理能力 運行管理 土砂ホッパ 切替制御装置 泥水式シールド工法 スラリー管理方法 請求項 切羽 走行位置 加泥材 スラリー返送手段 排出量 前記スラリー 施設 制御 当該運搬装置 発進立坑Ｋ 泥水供給手段 実施形態 排泥 スラリー処理施設スラリー処理施設 装置 前記掘削土砂 掘削土砂搬送施設 供給量 前記掘削土砂搬出施設 前記運搬装置 返送 返送量 掘削土砂搬出施設等 前記泥水 スラリー返送量 位置検出手段 シールド工事 発明 当該掘削土砂 ＱＤ 管理システム 圧力 複数 ダンプトラック 搬送量 進機 泥土式シールド工法 搬送手段 当該計量掘削土砂量 進機Ｓ 泥水供給量 処理設備 位置 前記切羽 制御方法 前記スラリー処理施設 計量手段 運行 スラリー処理システム 走行位置情報 前記泥水供給量制御装置 泥量ＱＳ 用地 ＱＳ ロードセル 供給 前記排泥ポンプ 泥量ＱＳ スラリー返送量制御装置地上部 地上部 走行速度等 前記排出管 混合土砂 前記圧送ポンプ 泥量ＱＤ 排泥量ＱＤ トンネルＴ 前記スラリー管理システム 地山 各種使用機材 前記運行管理装置 進 該主排泥管 加泥材供給装置 圧力管理 前記主排泥管 公共用地等 タンク 管理方法 前記スラリー返送手段 発進立坑 当該運行管理装置 切羽圧力 泥水圧 分流器 回転数 式 前記複数 工法 排泥流速等 搬入等 当該土砂ホッパ 前記泥水供給手段 実施 一定量 図 進長 複数箇所 数 前記切替装置 運行位置 加泥材等 記載 水位データ シールドトンネル 当該 水位レベル 前記搬送手段 比重管理 粘性管理 ストローク数 切替装置切羽Ｈ 前記ダンプトラック 当該泥水 位置表示装置 レベル 方法 Ｋ 連絡用シャフトＫ 前記計量手段 含砂量管理等 ＧＰＳ衛星 形態 接続 スラリーポンプ等 手段 トンネル上部 合流器 圧送 対象地盤Ｇ 泥水槽 説明 制限 等 流量 検出 条件 運転 進機Ｋ 通信装置等 長距離シールド シールド径 進速度 規模 走行 前記ロードセル 泥土圧シールド工法 進能力 当該複数 搬送距離 雨水管路等 当該実施形態 前記レベル 交通公害 調整槽 分岐部 メンテナンス費用 構成要素 下流側 概念図 ポンプ圧送等 工事 公共用地 走行データ 当該合流器 工期 特徴 他 合計 所 遮断 リアルタイム 連絡用シャフトＴ 運行指令 トンネルＧ 管長さや管径等 当該ダンプトラック 礫等 摩耗等 低下等 騒音等 ローヘッドスクリーン等 増車等 水位 Ｓ 物流条件等 分岐配管 硬質地盤 データ 目的地 走行ルート 工事費 対象地盤H ＧＰＳ 各種設備 管内圧力 圧力容器 ＧＰＳ信号 都市部 先端部 前面 砂 課題 高速化施工 多量 設備 搬入 長期化 増大化 短縮 衛星 図面 同一 符号 近傍 貯溜量 ）～（ 圧 車 効果 沿道条件 入力データ 施工現場周辺 混合物 産業廃棄物 交通渋滞 受信信号 送信信号 塑性流動性 機械費 技術分野 技術 バインダー分 礫 コンクリート状 増大 作業効率 問題点 目的 該総泥水量 配管 データ通信機能 データ通信 混雑個所 通信 設計変更 山留め 部分 確保 増加 セグメント 種々 原因 一つ プラント 低減 材料 Global Positioning System 前者 後者 公知 各々 基 内部 後記 圧送量 停止 増減 最適 ＰＨＳ 趣旨 範囲 設置 公園 下水道\n",
      "\n",
      "===== # 25, Topic : 13, p : 33.5510 %\n",
      "Topic words : 部材, 力, 形状, 方向, 一端, 移動, 間隔, 斜視図, 上下, 内側\n",
      "Input : 外側足場 内側足場 躯体 足場 昇降装置 内部空間 外側 内側 構造物 躯体Ｋ 力 構造 水平力 クライミング装置 型枠足場 フレーム 図 外側型枠 水平方向 クライミング操作 型枠 方向 スリップフォーム工法 閉鎖型足場 発明 方向性 施工法 垂直荷重 コンクリート 内側型枠 断面四角形 コンクリート壁 閉鎖型外側足場 特開平 号公報 車輪 枠 閉鎖型内側足場 力受け クライミングジャッキ 溝断面 断面円形 躯体表面 正面図 剛性フレーム 外側共 外側面 接部材昇降装置 中空構造物 説明 ー 数 図示 例 ブラケット 煙突 レール 表面 躯体側 進退装置 センターコア構造 断面四角形状 クライミングロッド クライミング過程 工法 接部材 橋脚 鉄筋 課題 該躯体 ｂ 状態 所定 位置 チェーンブロック等 コアー等 煙突等 レール等 コンンクリート壁 平面図 側面図 油圧ジャッキ 前記問題点 技術分野 技術 複数分割 分割 側面 ワイヤーロープ 引き上げ方式 コンンクリート 建物 台数 手段 実施 形態 形状 要所 形式 押し上げ つて 効果 図面 符号\n",
      "\n",
      "===== # 26, Topic : 13, p : 33.8143 %\n",
      "Topic words : 部材, 力, 形状, 方向, 一端, 移動, 間隔, 斜視図, 上下, 内側\n",
      "Input : シールドジャッキ装置 ピストンロッド 抵抗ジャッキ装置 シールド機本体 進機 セグメント端部 端部 ジャッキ ピストンロッド先端 調整バルブ装置 抵抗値 開閉弁 セグメント 方向 所定値 セグメント端面 ガーダー部 開閉力 図 フランジ部 ジャッキ本体 力 抵抗値Ｆ 進方向 シリンダー 抵抗ジャッキ本体 油圧室 油圧力 実施形態 ｂ 油圧回路 端面 曲線施工 値 固定金具 弁 説明 スプレッダー 構成説明図 テール部 変更方向 先端 当該シールド機本体 抵抗 発明 伸長 前記ピストンロッド 所定 圧油供給手段 シールドジャッキ装置等 手動ハンドル 圧油供給装置 推進力 推進 スプリング ジャッキ等 弁座 付勢力 圧力 ｃ 方向側 ピストンロッド伸長 固定 カッターヘッド カッターヘッド駆動装置 先端側 凹状段部 排土装置 周方向 フード部 主要部 先端部 段部 推進用 圧油供給源 方向変更 前記抵抗値 圧油 部分 シールドスキンプレート 進方向変更 構成要素 推進方向 所定方向 球面継手 作動 相互固定 伸長方向 進 構成 シールドスキンプレート内側 切羽側 環状 ｄ 推進操作 推進量 方向変更手段 装置群 開閉力可変弁 軸方向 止水機能 当該フランジ部 テールシール 前記シリンダー 空間 複数 推力 ボルト ハウジング 板 ｅ 状態 方向制御 直進方向 掘削方向 調整 工作業 油圧力 相互 曲率 凹状段部形成側 実施 形態 側 引き抜き力 方法 特徴 位置 課題 スチール製セグメント 推進状態 ハンドル軸 手段 ネジ穴 伸長動作開始点 具体的構成 チェーンブロック 具体的構成要素 チェーンブロック等 ３つ 機器 場所 後端 エレクター 内側 箇所 直し 他方 伸長移動 支点 時点 停止 ～ 番号 ２つ 作用 動作 表面 断面図 貫通ネジ穴 切羽部分 係止 配置状態 技術 機能 周 作業 鋼殻部分 ねじ穴 開放状態 技術分野 問題点 配置例 保護下 掘削 均等荷重 配列位置 相関関係 直進 圧縮度 技術的課題 外部 内部 全面 後部 一般 等間隔 適性 形状 構造 使用 ルート 他 目的 １つ 一端 他端 意味 逆 内方 凹状 厚み 態様 ６つ 最大 次 繰り返し 経過 効果 図面 符号\n",
      "\n",
      "===== # 27, Topic : 13, p : 41.9110 %\n",
      "Topic words : 部材, 力, 形状, 方向, 一端, 移動, 間隔, 斜視図, 上下, 内側\n",
      "Input : 法枠ブロック 底面壁 面壁 連結用底面壁部 法面 側方 係合凹部 法枠ブロック同士 図 係合穴 前記底面壁 実施形態 盛土 側端部 控え壁 前記係 法枠本体 アンカーピン 発明 側方方向 法面勾配 目用 面 当該法枠ブロック 前記連結用底面壁部 法枠ブロック裏面 端部 請求項 連結 盛土層 前記アンカーピン 係 矩形状底面壁 端面 凹部 上下方向 前記 上下 目 後方 安定性 盛土補強土工法 矩形状 該前面壁 突出片 上面 地盤 ｂ 係合 側 記法枠ブロック 法面全面 ｃ 階段状 係合固定 前記側端部 ジオテキスタイル 土砂 空孔 ａ 該底面壁 前端部 ブロック部材 自立安定性 斜視図 補強材 壁 網目状 前記空孔 転圧 前記控え壁 型枠 圧 位置 該連結用底面壁部 方向 傾斜面 側端 当該法枠本体 ｃ－ｃ線 アンカー 下端面 内側面 前記補強材 直近後方 安定化 施工 上記発明 ｅ－ｅ線矢視 IV－IV線矢視 基礎地盤Ｇ 直方体状 格子状 裁頭円錐状 記法枠本体 平面部 勾配 幅 断面図 軽量化 － 前方 ブロック分 穴 バットレス部 水平方向 上方 作業能率 前記階段状 縦断面図 盛土層間 両側端部 列 フック 字状 側面図 平面矩形状 上端面 支持面 控え壁上面 一体化 先端上面 領域 実施 形態 略矩形状 位置調整 水抜き用 前記突出片 説明 状態 同一 下面 特徴 他方 階段状部分 タイヤローラ タイヤローラー 該アンカーピン 幅方向 千鳥状 前記先端 プレキャストコンクリート製 相対移動 中央部 盛土補強工法 裁頭円柱状 係止具 根張り 基礎地盤 コ字状 後方直近 挿入係合し 幅方向中央 最深部 複数 効果 一対 課題 重心 任意 記載 直上 互い 植林 配列 ２つ １つ 前記ジオテキスタイル 孔 地盤低下 ～（ｃ 先端 同士 該係合凹部 上記 相対位置 垂直後方 直近領域 コスト削減 多段 作業 張力 開口 植生 目的 該控 上層 下層 緩み 直下 中央 前述 手順 造成 転圧作業 転圧付与 符号 平面半円形状 傾斜部分 横幅 半円柱状 正面視 材料コスト削減 傾斜角度 一体 水平 部材 鋼製 号公報参照 技術分野 技術 工法 特開平 こぼれだし 景観向上 傾倒モーメント 添付図面 盛り立て 角度 煉瓦積み 景観 図面 側部 面積 虞 メッシュ 手段 自重 ～ 奥行 程度 間隔 同形 工場 トラック 実線 紙面 配置 腐食 素材 耐食性 ステンレス 位置決め 図示 敷設 所期 植物 構成 相違 前面 薄肉 水捌け 小径 両者 隙間 要旨 範囲 変形 搬送 設置 広範囲\n",
      "\n",
      "===== # 28, Topic : 7, p : 23.1904 %\n",
      "Topic words : 地震, 架構, 降伏点鋼, 剛性, モーメント, 溶接等, 鋼材, 鉛直荷重, 柱, 記載\n",
      "Input : 連層耐震壁 並列連層耐震壁 前記連層耐震壁 前記並列連層耐震壁 建物 扁平梁 桁行方向 層数 梁間方向 連結梁 桁行方向Ｙ 前記建物 梁成 梁 層 前記扁平梁 請求項 梁幅 前記連結梁 方向 鉄筋コンクリート 梁間方向Ｘ 構造 ラーメン架構 前記連層耐震壁相互 前記 図 耐震性 連層耐震壁相互 ダンパ 上記並列連層耐震壁 地震応答変形 相互 階高 地震力 変形 地震エネルギー 前記ラーメン架構 記載 面外方向 前記ダンパ 実施 形態 下層階 耐震効果 鉛直方向 エネルギー吸収能力 階高寸法 耐震性能 耐震要素 発明 構面内 基準階 制震ダンパ 幅内部 断面寸法 鉄筋コンクリート造建物 鉄筋コンクリート造 制震効果 梁間方向Ｙ 平面形状 Ｄ 効果 鉄骨鉄筋コンクリート造 柱 建 スリット入り鋼板 Ａ－Ａ断面図 内部 断面形状 ｂ 上記 建程度 建～ 平面図 板状建物 一体 変形状態 剛性 該ダンパ 定着 相対変位 模式図 水平変位δ 階段室等 鉄骨鉄筋コンクリート建物 空間内部 程度 参照 特徴 断面図 基準階平面図 鉄骨鉄筋コンクリート ダンパＸ 定着部 ダンパ 複数箇所 エレベータシャフト 説明 上層 課題 任意 増加 耐力 損傷 スラブ 主筋 せん断変形 鉄骨 強度 図面 例 下面 面 両側 Ｔ コ Ｈ ユニットバス等 細部構造等 オイルダンパ等 水平剛性 上記事情 技術分野 技術 回転角 バリアフリー対応 単独 構面 上限 目的 手段 他 レベル Ｌ ａ 趣旨 範囲 種々 改良 設計 変更 各種 符号\n",
      "\n",
      "===== # 29, Topic : 6, p : 14.6896 %\n",
      "Topic words : 上部, ｄ, 実施形態, ｃ, 作業, 側面図, ｂ, 号公報, 両側, 上面\n",
      "Input : 収容壁部 図 テナントエリア 冷暖房機器 天井面 設備機器類 ブレース 請求項 開口部 設置スペース 字状 建物 テナントビル 実施形態 外周部 発明 スパン ユニット分 フレーム 照明器具 配管ダクト類 コスト 前記収容壁部 形態 上記実施形態 外周側 設備機器設置スペース 梁 ユニットごと 設置工事 ユニット テナント変更等 平面図 天井伏図 耐震性 架構 窓 レースウエイ 前記天井面 ラーメン架構 天井 コアエリア 内部空間 追加変更工事 ハ バルコニー 下階 上記 図示例 電灯設備工事 ～図 柱 ペリメータ負荷処理用 インテリア負荷処理用 配線用 有効面積比 位置 位置変更 構造的安定性 通線工事 テナント 配線 テナント変更 合成床版 桁行方向 有効天井高 側 空間 立面図 スラブ 実施 改変工事等 断面図 工事 梁伏図 間仕切り壁 腰壁 廊下 断面 盤 躯体コスト 口 冷暖房負荷 デッドスペース 動線計画 建設コスト テナントビル等 天井高 部材断面 内部 通風 Ｈ形鋼 ユニット分つまり 保守点検 基本 所要 側部 床 外壁 出入口 位置変更等 冷暖房 ペリメータ負荷 インテリア負荷 スペース スパンごとつまりテナントエリア 直射日光 屋外ユニット等 屋外ユニット 日射負荷 電気配線用 電気配線類 説明 各階 下面 採光 屋内ユニット 分電盤 削減 スパン分 階高 鉄骨ラーメン構造 構造設計 設計的変更 住宅用アルミサッシ等 端子盤等 建具工事費 梁下 採算性 耐久性 快適性 利便性 融通性 可変性 鉄骨製作コスト ケーブル等 際等 ルーバ等 予備スペース 例 外周フレーム コスト削減 Ｘ状 基準階 前記ブレース 性能 機能 課題 外部 用途 符号 境界 着脱 増減 動力盤 サッシ 庇 通常 山形 支障 向上 柱空間 点検扉 幅方向中央 立体駐車場棟 通風口 排気口 斜めブレース 技術分野 技術 ボルト締結 スラブ厚 ＯＡフロア 作業員 軽量パネル パイプシャフト 外気 熱交換 上部壁面 給気 新鮮外気 汎用品 効果 遮蔽効果 要請 方策 実状 手段 事務所 建て 付属 溶接 併用 おき 取り付け 外観 内観 自体 ＥＰＳ 一体 ウオールスルータイプ 吹出口 下部 吸込口 入口 換気 制御 独立 使い勝手 外側 夏期 低減 一般 Ｋ 所望 規模 犠牲 格別 図面\n",
      "\n",
      "===== # 30, Topic : 13, p : 20.9745 %\n",
      "Topic words : 部材, 力, 形状, 方向, 一端, 移動, 間隔, 斜視図, 上下, 内側\n",
      "Input : 風力発電装置 図 回転軸 屋根面 回転羽根 風車 面 請求項 発電機 角部 発電 実施 形態 発電効率 防風カバー 風 平面図 発明 発電エネルギー 回転 壁面 建物 ｂ 設置面 回転効率 屋根 頂部 面側 一方向 軸受け板 方向 延長線 断面図 他方 ～ 風向き パドルタイプ 特徴 回転方向 風力 孔 サボニウスタイプ 効果 防波堤 回転エネルギー 時計回り 右回り 前記風車 該延長線 一直線状 一般住宅 角部付近 説明 課題 該風車 箇所 屋上 バネ 上部 下部 鍔 外壁部 正面図 上記 手段 図面 構成 位置 上側 前記 斜面 状態 軸受け板間 ｂ側 下側 前記長孔 電気エネルギー 技術分野 技術 高層建物 構造物 半円形 目的 台数 一定 同士 年間 内側 符号\n",
      "\n",
      "===== # 31, Topic : 13, p : 32.8408 %\n",
      "Topic words : 部材, 力, 形状, 方向, 一端, 移動, 間隔, 斜視図, 上下, 内側\n",
      "Input : 壁 壁用ＰＣ板 壁用プレキャストコンクリート板 図 マリオン壁 上階 下階 立ち上げ壁 接合ピン 金物 断面図 上部 ボルト 背面図 間仕切壁 バルコニー 面内方向 面外方向 体 上部プレート Ａ－Ａ線断面図 Ｂ－Ｂ線断面図 Ｃ－Ｃ線断面図 Ｄ－Ｄ線断面図 請求項 発明 床 板 小口部 実施 形態 要部 前記壁用ＰＣ板 該壁用プレキャストコンクリート板 断面凹形 止め板 孔 受け金物 ファスナー プレキャストコンクリート板 凹溝 構築方法 引きボルト 位置合わせ 操作溝 先端部 受け体 下部 Ｅ－Ｅ線断面図 Ｆ－Ｆ線断面図 Ｇ－Ｇ線断面図 Ｈ－Ｈ線断面図 Ｉ－Ｉ線断面図 位置 背板 固定板 上側小口部 斜視図 ～図 下面 層間変位 段部 モルタル カバー 前記接合ピン 取り付け誤差 収納孔 説明 課題 上記 見栄え 該受 特徴 外壁 インサートパイプ フルプレキャストコンクリート板 下側 開口部 構築 操作 手段 該上部プレート 右 左 構成 ナット 調整 表面 固定 前記側壁 手前側 技術分野 技術 該ファスナー 側壁 目的 凹溝内 一対 前方 反対 上下 底面 頭部 ａ ｂ 現場 各階 突出 クレーン 効果 図面 符号\n",
      "\n",
      "===== # 32, Topic : 13, p : 25.6339 %\n",
      "Topic words : 部材, 力, 形状, 方向, 一端, 移動, 間隔, 斜視図, 上下, 内側\n",
      "Input : 梁部材 梁 鉄筋挿通孔 充填材 柱頭 ＰＣａ梁部材 柱部材 ＰＣａ柱部材 軸鉄筋 枝付き梁部材 中核体 柱部材軸鉄筋 注入孔 梁鉄筋 注入 ＰＣａ部材 部材 方法 目地空間 挿通孔 ＰＣａ柱部材柱頭 ＰＣａ枝付き梁部材 梁部材上面 接合 目地モルタル ＰＣａ 接合方法 梁部材接合 止め材 柱 枝付き梁部材建て入れ 材 鉄筋 梁軸鉄筋 柱部材柱頭 ＰＣａ柱 梁部材下面 部材水平鉄筋 梁部材接合方法 左右梁部材 ＰＣａ柱部材柱脚 左ＰＣａ梁部材 右ＰＣａ梁部材 発明 管 注入口 シース管 前記柱部材柱頭 プレキャスト鉄筋コンクリート梁部材 梁部材建て入れ シース管内 プレキャスト鉄筋コンクリート 充填 プレキャスト鉄筋コンクリート柱部材柱頭 慣用方法 完全充填 下階ＰＣａ柱部材柱頭 梁上面 梁下 充填材注入 鉛直方向 上端部 柱部材辺長 軸鉄筋上端部 プレキャスト鉄筋コンクリート柱 パネルゾーン 利点 流動性 問題点 せい高 柱頭空間 上方 水平方向 鉄筋接合作業 目地 練りモルタル 作業 コンクリート孔 鉄筋挿通孔群 発明方法 梁端面 鉄筋量 鉄筋定着 上昇速度 硬化充填材 部材間接合力 前記中核体 充填材上昇速度 上階 中核体下面 目地空間周縁 図示 位置 下面 入れ 下 注入方向 前記中核体下面 前記挿通孔 目地モルタル施工 直線状 図 縦断図 差 ヘッド差 該充填材 注入作業 該中核体 説明 側面 距離 ばらつき 柱頭部位 柱頭外周 建築軸組 間隔空間 上記 硬化 工程 接合状態 鉄筋コンクリート造建築 上記目地空間周囲 前記露出上端部 方向 端部 柱頭周縁内側 シース管下端 周縁 シース管内壁 改良方法 連通孔 コルゲート管 煩雑 部分 略称 課題 施工 間隙 空気 ボイド 図面 要部 露出端部 ライナー 内壁 態様 省力効果 せん断補強筋 細部配筋 施工工種 工程短縮効果大 コンクリート 挿通鉄筋 凹凸面 利用分野 間隔 Ｔ字形 一体 応力集中 部位 一体構造 状態 程度位 係合性 凹凸 型枠 上方開口 ポンプ負荷 実施状況 産業 技術 略記 相互 工法 通常 十字形 構成 セメントグラウト 構築 置換 ごと 手段 特徴 都合 形成 真っ直ぐ 領域 中央 同一 各種 板 帯状 排出 本 一つ つぎ 上述 符号\n"
     ]
    }
   ],
   "source": [
    "trainer.lasy_predict(ntm_model, dataloader_test, bow_vocab, num_example=50, n_top_words=10)"
   ]
  }
 ],
 "metadata": {
  "kernelspec": {
   "display_name": "Python 3.8.3 ('base')",
   "language": "python",
   "name": "python3"
  },
  "language_info": {
   "codemirror_mode": {
    "name": "ipython",
    "version": 3
   },
   "file_extension": ".py",
   "mimetype": "text/x-python",
   "name": "python",
   "nbconvert_exporter": "python",
   "pygments_lexer": "ipython3",
   "version": "3.9.7"
  },
  "vscode": {
   "interpreter": {
    "hash": "55ee831d6af1ae9706634b6e60f3ce072bf89ecf7e73a290d2e6ee7cdf841cc4"
   }
  }
 },
 "nbformat": 4,
 "nbformat_minor": 4
}
