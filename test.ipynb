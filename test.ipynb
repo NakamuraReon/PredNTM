{
 "cells": [
  {
   "cell_type": "code",
   "execution_count": 1,
   "metadata": {},
   "outputs": [],
   "source": [
    "import numpy as np\n",
    "from matplotlib import pyplot as plt\n",
    "import torch\n",
    "from torch import nn\n",
    "from torch import optim\n",
    "\n",
    "\n",
    "# 線形回帰モデルの定義                                                          \n",
    "class LinearRegression(nn.Module):\n",
    "    def __init__(self):\n",
    "        super().__init__()\n",
    "        self.layer = nn.Linear(1, 1, bias=True)\n",
    "\n",
    "    def forward(self, x):\n",
    "        y = self.layer(x)\n",
    "        return y\n",
    "\n",
    "\n",
    "# GPUかCPUかを自動設定                                                      \n",
    "device = 'cuda' if torch.cuda.is_available() else 'cpu'\n",
    "\n",
    "# modelとoptimizerの定義                                                    \n",
    "model = LinearRegression().to(device)\n",
    "opt = optim.SGD(model.parameters(), lr=0.01)\n",
    "# y = a_[0]*x + b_[0]\n",
    "# plt.plot(x, y, c='r')\n",
    "# plt.savefig('output.png')\n",
    "# plt.tight_layout();plt.show()\n"
   ]
  },
  {
   "cell_type": "code",
   "execution_count": 2,
   "metadata": {},
   "outputs": [],
   "source": [
    "# data生成                                                                  \n",
    "n = 1000\n",
    "x = torch.rand(n)*2-1\n",
    "a, b = 2.0, -10.0 # weight & bias                                           \n",
    "y = a*x+b\n",
    "\n",
    "# dataにノイズ追加                                                          \n",
    "x = x + torch.randn(n)*0.02\n",
    "y = y + a*torch.randn(n)*0.02\n",
    "\n",
    "# to GPU                                                                    \n",
    "x = x.to(device)\n",
    "y = y.to(device)\n",
    "\n",
    "bs = 10 # batch_size                                                        \n",
    "niter = 1000\n",
    "losses = []"
   ]
  },
  {
   "cell_type": "code",
   "execution_count": 3,
   "metadata": {},
   "outputs": [
    {
     "name": "stdout",
     "output_type": "stream",
     "text": [
      "tensor([[-10.4626],\n",
      "        [ -8.3236],\n",
      "        [ -9.9133],\n",
      "        [ -8.9931],\n",
      "        [ -9.1517],\n",
      "        [ -9.2680],\n",
      "        [ -9.9240],\n",
      "        [-10.4082],\n",
      "        [ -8.4057],\n",
      "        [ -8.0861]], grad_fn=<AddmmBackward0>)\n",
      "tensor([[-10.3918],\n",
      "        [ -8.4293],\n",
      "        [ -9.9721],\n",
      "        [ -8.9738],\n",
      "        [ -9.1853],\n",
      "        [ -9.1973],\n",
      "        [ -9.8310],\n",
      "        [-10.3715],\n",
      "        [ -8.4581],\n",
      "        [ -8.0879]])\n"
     ]
    }
   ],
   "source": [
    "for iiter in range(niter):\n",
    "    \n",
    "    # batch dataの取得                                                      \n",
    "    r = np.random.choice(n, bs, replace=False)\n",
    "    bx = x[r].reshape(-1,1)\n",
    "    # bx = x[r]\n",
    "    by = y[r].reshape(-1,1)\n",
    "    # by = y[r]\n",
    "    # forwardとloss計算                                                     \n",
    "    y_ = model.forward(bx)\n",
    "    mse = nn.MSELoss()\n",
    "    # loss = torch.mean((y_ - by)**2)\n",
    "    loss = mse(y_, by)\n",
    "    # 最適化                                                                \n",
    "    opt.zero_grad() # 勾配初期化                                            \n",
    "    loss.backward() # 勾配計算(backward)                                    \n",
    "    opt.step() # パラメータ更新                                             \n",
    "\n",
    "    # print('%05d/%05d loss=%.5f' % (iiter, niter, loss.item()))\n",
    "    losses.append(loss.item())\n",
    "\n",
    "print(y_)\n",
    "print(by)\n",
    "# 重みの取り出し                                                            \n",
    "a_ = model.layer.weight.detach().to('cpu').numpy()\n",
    "b_ = model.layer.bias.detach().to('cpu').numpy()\n",
    "# print('a=%.3f b=%.3f' % (a_[0] ,b_[0]))\n",
    "\n",
    "# データと最適化した関数のplot\n",
    "xnp = x.detach().to('cpu').numpy()             \n",
    "ynp = y.detach().to('cpu').numpy()\n",
    "# plt.scatter(xnp, ynp)\n",
    "# x = np.linspace(-1,1,100"
   ]
  },
  {
   "cell_type": "code",
   "execution_count": null,
   "metadata": {},
   "outputs": [],
   "source": []
  }
 ],
 "metadata": {
  "kernelspec": {
   "display_name": "Python 3.8.3 ('base')",
   "language": "python",
   "name": "python3"
  },
  "language_info": {
   "codemirror_mode": {
    "name": "ipython",
    "version": 3
   },
   "file_extension": ".py",
   "mimetype": "text/x-python",
   "name": "python",
   "nbconvert_exporter": "python",
   "pygments_lexer": "ipython3",
   "version": "3.8.3"
  },
  "orig_nbformat": 4,
  "vscode": {
   "interpreter": {
    "hash": "55ee831d6af1ae9706634b6e60f3ce072bf89ecf7e73a290d2e6ee7cdf841cc4"
   }
  }
 },
 "nbformat": 4,
 "nbformat_minor": 2
}
